{
 "cells": [
  {
   "cell_type": "code",
   "execution_count": 1,
   "metadata": {},
   "outputs": [
    {
     "name": "stderr",
     "output_type": "stream",
     "text": [
      "-- Attaching packages --------------------------------------- tidyverse 1.2.1 --\n",
      "v ggplot2 2.2.1     v purrr   0.2.4\n",
      "v tibble  1.4.1     v dplyr   0.7.4\n",
      "v tidyr   0.7.2     v stringr 1.2.0\n",
      "v readr   1.1.1     v forcats 0.2.0\n",
      "-- Conflicts ------------------------------------------ tidyverse_conflicts() --\n",
      "x dplyr::filter() masks stats::filter()\n",
      "x dplyr::lag()    masks stats::lag()\n",
      "\n",
      "Attaching package: 'mice'\n",
      "\n",
      "The following object is masked from 'package:tidyr':\n",
      "\n",
      "    complete\n",
      "\n",
      "randomForest 4.6-12\n",
      "Type rfNews() to see new features/changes/bug fixes.\n",
      "\n",
      "Attaching package: 'randomForest'\n",
      "\n",
      "The following object is masked from 'package:dplyr':\n",
      "\n",
      "    combine\n",
      "\n",
      "The following object is masked from 'package:ggplot2':\n",
      "\n",
      "    margin\n",
      "\n",
      "\n",
      "Attaching package: 'MASS'\n",
      "\n",
      "The following object is masked from 'package:dplyr':\n",
      "\n",
      "    select\n",
      "\n",
      "\n",
      "Attaching package: 'faraway'\n",
      "\n",
      "The following object is masked from 'package:mice':\n",
      "\n",
      "    mammalsleep\n",
      "\n",
      "Loading required package: nlme\n",
      "\n",
      "Attaching package: 'nlme'\n",
      "\n",
      "The following object is masked from 'package:dplyr':\n",
      "\n",
      "    collapse\n",
      "\n",
      "This is mgcv 1.8-22. For overview type 'help(\"mgcv-package\")'.\n",
      "Loading required package: lattice\n",
      "\n",
      "Attaching package: 'lattice'\n",
      "\n",
      "The following object is masked from 'package:faraway':\n",
      "\n",
      "    melanoma\n",
      "\n",
      "\n",
      "Attaching package: 'caret'\n",
      "\n",
      "The following object is masked from 'package:purrr':\n",
      "\n",
      "    lift\n",
      "\n",
      "\n",
      "Attaching package: 'nnet'\n",
      "\n",
      "The following object is masked from 'package:mgcv':\n",
      "\n",
      "    multinom\n",
      "\n",
      "Loading required package: gplots\n",
      "\n",
      "Attaching package: 'gplots'\n",
      "\n",
      "The following object is masked from 'package:stats':\n",
      "\n",
      "    lowess\n",
      "\n"
     ]
    }
   ],
   "source": [
    "library(tidyverse)\n",
    "library(ggplot2) # Plotting\n",
    "library(mice) # Predictive Data Imputation for missing age values\n",
    "library(randomForest) # For random forest model\n",
    "library(dplyr)\n",
    "library(MASS) # For stepAIC\n",
    "library(faraway) # vif() <- variance inflation factors\n",
    "library(mgcv) # GAMs\n",
    "library(e1071) # Naive Bayes and Support Vector Machine Models\n",
    "library(caret) # K-Nearest Neighbor\n",
    "library(nnet)\n",
    "library (ROCR) # For Precision, Recall, F1 and plots for model evaluation"
   ]
  },
  {
   "cell_type": "code",
   "execution_count": 2,
   "metadata": {},
   "outputs": [
    {
     "name": "stdout",
     "output_type": "stream",
     "text": [
      "'data.frame':\t1309 obs. of  12 variables:\n",
      " $ PassengerId: int  1 2 3 4 5 6 7 8 9 10 ...\n",
      " $ Survived   : int  0 1 1 1 0 0 0 0 1 1 ...\n",
      " $ Pclass     : int  3 1 3 1 3 3 1 3 3 2 ...\n",
      " $ Name       : chr  \"Braund, Mr. Owen Harris\" \"Cumings, Mrs. John Bradley (Florence Briggs Thayer)\" \"Heikkinen, Miss. Laina\" \"Futrelle, Mrs. Jacques Heath (Lily May Peel)\" ...\n",
      " $ Sex        : chr  \"male\" \"female\" \"female\" \"female\" ...\n",
      " $ Age        : num  22 38 26 35 35 NA 54 2 27 14 ...\n",
      " $ SibSp      : int  1 1 0 1 0 0 0 3 0 1 ...\n",
      " $ Parch      : int  0 0 0 0 0 0 0 1 2 0 ...\n",
      " $ Ticket     : chr  \"A/5 21171\" \"PC 17599\" \"STON/O2. 3101282\" \"113803\" ...\n",
      " $ Fare       : num  7.25 71.28 7.92 53.1 8.05 ...\n",
      " $ Cabin      : chr  \"\" \"C85\" \"\" \"C123\" ...\n",
      " $ Embarked   : chr  \"S\" \"C\" \"S\" \"S\" ...\n"
     ]
    }
   ],
   "source": [
    "train = set.seed(99)\n",
    "train = read.csv(\"train.csv\", stringsAsFactors = F)\n",
    "test = read.csv(\"test.csv\", stringsAsFactors = F)\n",
    "testSurvived = read.csv(\"gender_submission.csv\", stringsAsFactors = F)\n",
    "\n",
    "test$Survived = testSurvived$Survived\n",
    "\n",
    "full = bind_rows(train, test)\n",
    "str(full)"
   ]
  },
  {
   "cell_type": "markdown",
   "metadata": {},
   "source": [
    "# Feature Engineering"
   ]
  },
  {
   "cell_type": "markdown",
   "metadata": {},
   "source": [
    "Extract the title from the name of the passenger."
   ]
  },
  {
   "cell_type": "code",
   "execution_count": 3,
   "metadata": {},
   "outputs": [
    {
     "data": {
      "text/plain": [
       "        \n",
       "         Capt Col Don Dona  Dr Jonkheer Lady Major Master Miss Mlle Mme  Mr Mrs\n",
       "  female    0   0   0    1   1        0    1     0      0  260    2   1   0 197\n",
       "  male      1   4   1    0   7        1    0     2     61    0    0   0 757   0\n",
       "        \n",
       "          Ms Rev Sir the Countess\n",
       "  female   2   0   0            1\n",
       "  male     0   8   1            0"
      ]
     },
     "metadata": {},
     "output_type": "display_data"
    }
   ],
   "source": [
    "full$Title <- gsub('(.*, )|(\\\\..*)', '', full$Name)\n",
    "\n",
    "table(full$Sex, full$Title)"
   ]
  },
  {
   "cell_type": "code",
   "execution_count": 4,
   "metadata": {},
   "outputs": [
    {
     "data": {
      "text/plain": [
       "        \n",
       "         Master Miss  Mr Mrs Rare_Title\n",
       "  female      0  264   0 198          4\n",
       "  male       61    0 757   0         25"
      ]
     },
     "metadata": {},
     "output_type": "display_data"
    }
   ],
   "source": [
    "rare_titles = c(\"Dona\", \"Lady\", \"the Countess\", \"Capt\", \"Col\", \"Don\", \"Dr\", \"Major\", \"Rev\", \"Sir\", \"Jonkheer\")\n",
    "\n",
    "# Rename some of the overlapping titles\n",
    "full$Title[full$Title == \"Ms\"] <- \"Miss\"\n",
    "full$Title[full$Title == \"Mlle\"] <- \"Miss\"\n",
    "full$Title[full$Title == \"Mme\"] <- \"Mrs\"\n",
    "full$Title[full$Title %in% rare_titles] <- \"Rare_Title\"\n",
    "\n",
    "table(full$Sex, full$Title)"
   ]
  },
  {
   "cell_type": "markdown",
   "metadata": {},
   "source": [
    "Also want to grab the surnames"
   ]
  },
  {
   "cell_type": "code",
   "execution_count": 5,
   "metadata": {},
   "outputs": [
    {
     "data": {
      "text/html": [
       "875"
      ],
      "text/latex": [
       "875"
      ],
      "text/markdown": [
       "875"
      ],
      "text/plain": [
       "[1] 875"
      ]
     },
     "metadata": {},
     "output_type": "display_data"
    }
   ],
   "source": [
    "full$Surname = sapply(full$Name, function(x) strsplit(x, split = '[,.]')[[1]][1])\n",
    "                      \n",
    "nlevels(factor(full$Surname))"
   ]
  },
  {
   "cell_type": "markdown",
   "metadata": {},
   "source": [
    "Now lets look at family size"
   ]
  },
  {
   "cell_type": "code",
   "execution_count": 6,
   "metadata": {},
   "outputs": [],
   "source": [
    "# Create a variable for the total number of people in each family\n",
    "full$Fsize = full$SibSp + full$Parch + 1\n",
    "\n",
    "# Create a variable for all family info\n",
    "full$Family = paste(full$Surname, full$Fsize, sep=\"_\")"
   ]
  },
  {
   "cell_type": "code",
   "execution_count": 7,
   "metadata": {},
   "outputs": [
    {
     "data": {},
     "metadata": {},
     "output_type": "display_data"
    },
    {
     "data": {
      "image/png": "[encoded data removed]",
      "text/plain": [
       "plot without title"
      ]
     },
     "metadata": {},
     "output_type": "display_data"
    }
   ],
   "source": [
    "ggplot(full[1:891, ], aes(x = Fsize, fill = factor(Survived))) + \n",
    "    geom_bar(stat=\"count\", position = \"dodge\") + \n",
    "    scale_x_continuous(breaks=c(1:11)) +\n",
    "    labs(x = \"Family Size\")"
   ]
  },
  {
   "cell_type": "markdown",
   "metadata": {},
   "source": [
    "Notice that there appears to be a penalty to survival for singletons and people with family sizes of 5 or greater."
   ]
  },
  {
   "cell_type": "code",
   "execution_count": 8,
   "metadata": {},
   "outputs": [],
   "source": [
    "# ggplot(full[1:891, ], aes(x = Pclass, fill = factor(Survived))) + \n",
    "#     geom_bar(stat = \"count\", position = \"dodge\") +\n",
    "#     facet_grid(.~Sex) +\n",
    "#     labs(fill = \"Survived\", x = \"Class\", y = \"Count\", title = \"Number Survived per Class\") +\n",
    "#     scale_fill_manual(values = c(\"turquoise3\", \"darkorchid3\"), labels = c(\"Died\", \"Survived\"))"
   ]
  },
  {
   "cell_type": "code",
   "execution_count": 9,
   "metadata": {},
   "outputs": [],
   "source": [
    "# ggplot(full[1:891, ], aes(x = Age, fill = factor(Survived))) + \n",
    "#     geom_histogram() +\n",
    "#     facet_grid(.~Sex) +\n",
    "#     labs(fill = \"Survived\", x = \"Age\", y = \"Count\", title = \"Number Survived Per Age\") +\n",
    "#     scale_fill_manual(values = c(\"turquoise3\", \"darkorchid3\"), labels = c(\"Died\", \"Survived\"))"
   ]
  },
  {
   "cell_type": "code",
   "execution_count": 10,
   "metadata": {},
   "outputs": [],
   "source": [
    "# ggplot(full[1:891, ], aes(x = Sex, fill = factor(Survived))) + \n",
    "#     geom_bar(stat = \"count\", position = \"dodge\")"
   ]
  },
  {
   "cell_type": "code",
   "execution_count": 11,
   "metadata": {},
   "outputs": [
    {
     "data": {},
     "metadata": {},
     "output_type": "display_data"
    },
    {
     "data": {
      "image/png": "[encoded data removed]",
      "text/plain": [
       "plot without title"
      ]
     },
     "metadata": {},
     "output_type": "display_data"
    }
   ],
   "source": [
    "# Lets make a discrete family size varaible\n",
    "full$FsizeD[full$Fsize == 1] = \"singleton\"\n",
    "full$FsizeD[full$Fsize <= 4 & full$Fsize > 1] = \"small\"\n",
    "full$FsizeD[full$Fsize >= 5] = \"large\"\n",
    "\n",
    "ggplot(full[1:891, ], aes(x = FsizeD, fill = factor(Survived))) + \n",
    "    geom_bar(stat=\"count\", position = \"dodge\")"
   ]
  },
  {
   "cell_type": "code",
   "execution_count": 12,
   "metadata": {},
   "outputs": [],
   "source": [
    "# Create a deck varaible\n",
    "full$Deck = factor(sapply(full$Cabin, function(x) strsplit(x, NULL)[[1]][1]))"
   ]
  },
  {
   "cell_type": "markdown",
   "metadata": {},
   "source": [
    "# Data Cleaning"
   ]
  },
  {
   "cell_type": "code",
   "execution_count": 13,
   "metadata": {},
   "outputs": [],
   "source": [
    "# Start with embarked data. Rows missing data are 62 and 830\n",
    "# get rid of our missing passenger IDs\n",
    "# Because their fare price is most similar to first class, and most first class departed from 'C', we will assign that.\n",
    "full$Embarked[c(62, 830)] = 'S'"
   ]
  },
  {
   "cell_type": "code",
   "execution_count": 14,
   "metadata": {},
   "outputs": [
    {
     "data": {
      "text/html": [
       "<table>\n",
       "<thead><tr><th></th><th scope=col>PassengerId</th><th scope=col>Survived</th><th scope=col>Pclass</th><th scope=col>Name</th><th scope=col>Sex</th><th scope=col>Age</th><th scope=col>SibSp</th><th scope=col>Parch</th><th scope=col>Ticket</th><th scope=col>Fare</th><th scope=col>Cabin</th><th scope=col>Embarked</th><th scope=col>Title</th><th scope=col>Surname</th><th scope=col>Fsize</th><th scope=col>Family</th><th scope=col>FsizeD</th><th scope=col>Deck</th></tr></thead>\n",
       "<tbody>\n",
       "\t<tr><th scope=row>1044</th><td>1044              </td><td>0                 </td><td>3                 </td><td>Storey, Mr. Thomas</td><td>male              </td><td>60.5              </td><td>0                 </td><td>0                 </td><td>3701              </td><td>NA                </td><td>                  </td><td>S                 </td><td>Mr                </td><td>Storey            </td><td>1                 </td><td>Storey_1          </td><td>singleton         </td><td>NA                </td></tr>\n",
       "</tbody>\n",
       "</table>\n"
      ],
      "text/latex": [
       "\\begin{tabular}{r|llllllllllllllllll}\n",
       "  & PassengerId & Survived & Pclass & Name & Sex & Age & SibSp & Parch & Ticket & Fare & Cabin & Embarked & Title & Surname & Fsize & Family & FsizeD & Deck\\\\\n",
       "\\hline\n",
       "\t1044 & 1044               & 0                  & 3                  & Storey, Mr. Thomas & male               & 60.5               & 0                  & 0                  & 3701               & NA                 &                    & S                  & Mr                 & Storey             & 1                  & Storey\\_1         & singleton          & NA                \\\\\n",
       "\\end{tabular}\n"
      ],
      "text/markdown": [
       "\n",
       "| <!--/--> | PassengerId | Survived | Pclass | Name | Sex | Age | SibSp | Parch | Ticket | Fare | Cabin | Embarked | Title | Surname | Fsize | Family | FsizeD | Deck | \n",
       "|---|\n",
       "| 1044 | 1044               | 0                  | 3                  | Storey, Mr. Thomas | male               | 60.5               | 0                  | 0                  | 3701               | NA                 |                    | S                  | Mr                 | Storey             | 1                  | Storey_1           | singleton          | NA                 | \n",
       "\n",
       "\n"
      ],
      "text/plain": [
       "     PassengerId Survived Pclass Name               Sex  Age  SibSp Parch\n",
       "1044 1044        0        3      Storey, Mr. Thomas male 60.5 0     0    \n",
       "     Ticket Fare Cabin Embarked Title Surname Fsize Family   FsizeD    Deck\n",
       "1044 3701   NA         S        Mr    Storey  1     Storey_1 singleton NA  "
      ]
     },
     "metadata": {},
     "output_type": "display_data"
    },
    {
     "data": {
      "text/html": [
       "<table>\n",
       "<thead><tr><th></th><th scope=col>PassengerId</th><th scope=col>Survived</th><th scope=col>Pclass</th><th scope=col>Name</th><th scope=col>Sex</th><th scope=col>Age</th><th scope=col>SibSp</th><th scope=col>Parch</th><th scope=col>Ticket</th><th scope=col>Fare</th><th scope=col>Cabin</th><th scope=col>Embarked</th><th scope=col>Title</th><th scope=col>Surname</th><th scope=col>Fsize</th><th scope=col>Family</th><th scope=col>FsizeD</th><th scope=col>Deck</th></tr></thead>\n",
       "<tbody>\n",
       "\t<tr><th scope=row>1044</th><td>1044              </td><td>0                 </td><td>3                 </td><td>Storey, Mr. Thomas</td><td>male              </td><td>60.5              </td><td>0                 </td><td>0                 </td><td>3701              </td><td>8.05              </td><td>                  </td><td>S                 </td><td>Mr                </td><td>Storey            </td><td>1                 </td><td>Storey_1          </td><td>singleton         </td><td>NA                </td></tr>\n",
       "</tbody>\n",
       "</table>\n"
      ],
      "text/latex": [
       "\\begin{tabular}{r|llllllllllllllllll}\n",
       "  & PassengerId & Survived & Pclass & Name & Sex & Age & SibSp & Parch & Ticket & Fare & Cabin & Embarked & Title & Surname & Fsize & Family & FsizeD & Deck\\\\\n",
       "\\hline\n",
       "\t1044 & 1044               & 0                  & 3                  & Storey, Mr. Thomas & male               & 60.5               & 0                  & 0                  & 3701               & 8.05               &                    & S                  & Mr                 & Storey             & 1                  & Storey\\_1         & singleton          & NA                \\\\\n",
       "\\end{tabular}\n"
      ],
      "text/markdown": [
       "\n",
       "| <!--/--> | PassengerId | Survived | Pclass | Name | Sex | Age | SibSp | Parch | Ticket | Fare | Cabin | Embarked | Title | Surname | Fsize | Family | FsizeD | Deck | \n",
       "|---|\n",
       "| 1044 | 1044               | 0                  | 3                  | Storey, Mr. Thomas | male               | 60.5               | 0                  | 0                  | 3701               | 8.05               |                    | S                  | Mr                 | Storey             | 1                  | Storey_1           | singleton          | NA                 | \n",
       "\n",
       "\n"
      ],
      "text/plain": [
       "     PassengerId Survived Pclass Name               Sex  Age  SibSp Parch\n",
       "1044 1044        0        3      Storey, Mr. Thomas male 60.5 0     0    \n",
       "     Ticket Fare Cabin Embarked Title Surname Fsize Family   FsizeD    Deck\n",
       "1044 3701   8.05       S        Mr    Storey  1     Storey_1 singleton NA  "
      ]
     },
     "metadata": {},
     "output_type": "display_data"
    }
   ],
   "source": [
    "# The passenger on row 1044 has an NA fare value\n",
    "full[1044, ]\n",
    "# Notice that their Pclass is 3 and their embarked is 'S'. So can assign the median fare of those groups.\n",
    "full$Fare[1044] = median(full[full$Pclass == 3 & full$Embarked == 'S', ]$Fare, na.rm = TRUE)\n",
    "# Median fare was 8.05\n",
    "full[1044, ]"
   ]
  },
  {
   "cell_type": "code",
   "execution_count": 15,
   "metadata": {},
   "outputs": [
    {
     "data": {
      "text/html": [
       "263"
      ],
      "text/latex": [
       "263"
      ],
      "text/markdown": [
       "263"
      ],
      "text/plain": [
       "[1] 263"
      ]
     },
     "metadata": {},
     "output_type": "display_data"
    },
    {
     "name": "stdout",
     "output_type": "stream",
     "text": [
      "\n",
      " iter imp variable\n",
      "  1   1  Age  Deck\n",
      "  1   2  Age  Deck\n",
      "  1   3  Age  Deck\n",
      "  1   4  Age  Deck\n",
      "  1   5  Age  Deck\n",
      "  2   1  Age  Deck\n",
      "  2   2  Age  Deck\n",
      "  2   3  Age  Deck\n",
      "  2   4  Age  Deck\n",
      "  2   5  Age  Deck\n",
      "  3   1  Age  Deck\n",
      "  3   2  Age  Deck\n",
      "  3   3  Age  Deck\n",
      "  3   4  Age  Deck\n",
      "  3   5  Age  Deck\n",
      "  4   1  Age  Deck\n",
      "  4   2  Age  Deck\n",
      "  4   3  Age  Deck\n",
      "  4   4  Age  Deck\n",
      "  4   5  Age  Deck\n",
      "  5   1  Age  Deck\n",
      "  5   2  Age  Deck\n",
      "  5   3  Age  Deck\n",
      "  5   4  Age  Deck\n",
      "  5   5  Age  Deck\n"
     ]
    }
   ],
   "source": [
    "# There are a few missing age values in the data\n",
    "sum(is.na(full$Age))\n",
    "# Will use predictive imputation to fill those.\n",
    "# Start by factorizing the factor variables\n",
    "factor_vars = c(\"PassengerId\", \"Pclass\", \"Sex\", \"Embarked\", \"Title\", \"Surname\", \"Family\", \"FsizeD\")\n",
    "\n",
    "full[factor_vars] = lapply(full[factor_vars], function(x) as.factor(x))\n",
    "            \n",
    "set.seed(129)\n",
    "                           \n",
    "# Use mice package to perform imputation, excluding certain variables that aren't useful\n",
    "mice_mod = mice(full[, !names(full) %in% c(\"PassengerId\", 'Name', 'Ticket', 'Cabin', 'Family', 'Surname', 'Survived')], method = 'rf')\n",
    "                           "
   ]
  },
  {
   "cell_type": "code",
   "execution_count": 16,
   "metadata": {},
   "outputs": [],
   "source": [
    "mice_output = complete(mice_mod)"
   ]
  },
  {
   "cell_type": "code",
   "execution_count": 17,
   "metadata": {},
   "outputs": [
    {
     "data": {
      "image/png": "[encoded data removed]",
      "text/plain": [
       "Plot with title \"Age: Mice Output\""
      ]
     },
     "metadata": {},
     "output_type": "display_data"
    }
   ],
   "source": [
    "par(mfrow = c(1,2))\n",
    "hist(full$Age, freq = F, main = \"Age: Original Data\", ylim = c(0, 0.04))\n",
    "hist(mice_output$Age, freq = F, main = \"Age: Mice Output\", ylim = c(0, 0.04))"
   ]
  },
  {
   "cell_type": "code",
   "execution_count": 18,
   "metadata": {},
   "outputs": [],
   "source": [
    "# hist(full$Age, freq = F, main = \"Age: Original Data\", xlab = \"Age\", ylim = c(0, 0.04), col = \"mediumorchid3\")"
   ]
  },
  {
   "cell_type": "code",
   "execution_count": 19,
   "metadata": {},
   "outputs": [],
   "source": [
    "# hist(mice_output$Age, freq = F, main = \"Age: Predicted Output\", xlab = \"Age\", ylim = c(0, 0.04), col = \"mediumorchid3\")"
   ]
  },
  {
   "cell_type": "code",
   "execution_count": 20,
   "metadata": {},
   "outputs": [
    {
     "data": {
      "text/html": [
       "0"
      ],
      "text/latex": [
       "0"
      ],
      "text/markdown": [
       "0"
      ],
      "text/plain": [
       "[1] 0"
      ]
     },
     "metadata": {},
     "output_type": "display_data"
    }
   ],
   "source": [
    "# Things look about equal in the above plots. Replace the age column in the full model with the one in the mice model\n",
    "full$Age = mice_output$Age\n",
    "sum(is.na(full$Age))"
   ]
  },
  {
   "cell_type": "code",
   "execution_count": 21,
   "metadata": {},
   "outputs": [
    {
     "name": "stderr",
     "output_type": "stream",
     "text": [
      "`stat_bin()` using `bins = 30`. Pick better value with `binwidth`.\n"
     ]
    },
    {
     "data": {},
     "metadata": {},
     "output_type": "display_data"
    },
    {
     "data": {
      "image/png": "[encoded data removed]",
      "text/plain": [
       "plot without title"
      ]
     },
     "metadata": {},
     "output_type": "display_data"
    }
   ],
   "source": [
    "# Lets take a look at the relationship between age and survival\n",
    "ggplot(full[1:891, ], aes(x = Age, fill = factor(Survived))) + \n",
    "    geom_histogram() +\n",
    "    facet_grid(.~Sex)"
   ]
  },
  {
   "cell_type": "code",
   "execution_count": 22,
   "metadata": {},
   "outputs": [
    {
     "data": {
      "text/plain": [
       "       \n",
       "          0   1\n",
       "  Adult 711 405\n",
       "  Child 104  89"
      ]
     },
     "metadata": {},
     "output_type": "display_data"
    }
   ],
   "source": [
    "# Lets do some more feature engineering with the full age varaibles\n",
    "# Determine if people are children or mothers\n",
    "# children are anyone under the age of 18\n",
    "full$Child[full$Age < 18] = 'Child'\n",
    "full$Child[full$Age >= 18] = 'Adult'\n",
    "full$Child = factor(full$Child)\n",
    "table(full$Child, full$Survived)"
   ]
  },
  {
   "cell_type": "code",
   "execution_count": 23,
   "metadata": {},
   "outputs": [
    {
     "data": {
      "text/plain": [
       "            \n",
       "               0   1\n",
       "  Mother      16  68\n",
       "  Not_Mother 799 426"
      ]
     },
     "metadata": {},
     "output_type": "display_data"
    }
   ],
   "source": [
    "# A mother is someone who is female, over 18, has at least 1 child, and does not have the title \"Miss\"\n",
    "full$Mother = \"Not_Mother\"\n",
    "full$Mother[full$Sex == \"female\" & full$Age > 18 & full$Title != \"Miss\" & full$Parch > 0] = \"Mother\"\n",
    "full$Mother = full$Mother\n",
    "table(full$Mother, full$Survived)"
   ]
  },
  {
   "cell_type": "code",
   "execution_count": 24,
   "metadata": {},
   "outputs": [
    {
     "name": "stderr",
     "output_type": "stream",
     "text": [
      "Warning message in data.matrix(x):\n",
      "\"NAs introduced by coercion\"Warning message in data.matrix(x):\n",
      "\"NAs introduced by coercion\"Warning message in data.matrix(x):\n",
      "\"NAs introduced by coercion\"Warning message in data.matrix(x):\n",
      "\"NAs introduced by coercion\""
     ]
    },
    {
     "data": {
      "text/html": [
       "<table>\n",
       "<thead><tr><th></th><th scope=col>PassengerId</th><th scope=col>Survived</th><th scope=col>Pclass</th><th scope=col>Sex</th><th scope=col>Age</th><th scope=col>SibSp</th><th scope=col>Parch</th><th scope=col>Fare</th><th scope=col>Embarked</th><th scope=col>Title</th><th scope=col>...</th><th scope=col>Fsize</th><th scope=col>Family</th><th scope=col>FsizeD</th><th scope=col>Child</th><th scope=col>Ticket</th><th scope=col>Deck</th><th scope=col>Name</th><th scope=col>Cabin</th><th scope=col>Mother</th><th scope=col></th></tr></thead>\n",
       "<tbody>\n",
       "\t<tr><th scope=row>211</th><td>1   </td><td>1   </td><td>1   </td><td>1   </td><td>1   </td><td>1   </td><td>1   </td><td>1   </td><td>1   </td><td>1   </td><td>... </td><td>1   </td><td>1   </td><td>1   </td><td>1   </td><td>  1 </td><td>   1</td><td>   0</td><td>   0</td><td>   0</td><td>   3</td></tr>\n",
       "\t<tr><th scope=row> 84</th><td>1   </td><td>1   </td><td>1   </td><td>1   </td><td>1   </td><td>1   </td><td>1   </td><td>1   </td><td>1   </td><td>1   </td><td>... </td><td>1   </td><td>1   </td><td>1   </td><td>1   </td><td>  0 </td><td>   1</td><td>   0</td><td>   0</td><td>   0</td><td>   4</td></tr>\n",
       "\t<tr><th scope=row>746</th><td>1   </td><td>1   </td><td>1   </td><td>1   </td><td>1   </td><td>1   </td><td>1   </td><td>1   </td><td>1   </td><td>1   </td><td>... </td><td>1   </td><td>1   </td><td>1   </td><td>1   </td><td>  1 </td><td>   0</td><td>   0</td><td>   0</td><td>   0</td><td>   4</td></tr>\n",
       "\t<tr><th scope=row>268</th><td>1   </td><td>1   </td><td>1   </td><td>1   </td><td>1   </td><td>1   </td><td>1   </td><td>1   </td><td>1   </td><td>1   </td><td>... </td><td>1   </td><td>1   </td><td>1   </td><td>1   </td><td>  0 </td><td>   0</td><td>   0</td><td>   0</td><td>   0</td><td>   5</td></tr>\n",
       "\t<tr><th scope=row></th><td>0   </td><td>0   </td><td>0   </td><td>0   </td><td>0   </td><td>0   </td><td>0   </td><td>0   </td><td>0   </td><td>0   </td><td>... </td><td>0   </td><td>0   </td><td>0   </td><td>0   </td><td>352 </td><td>1014</td><td>1309</td><td>1309</td><td>1309</td><td>5293</td></tr>\n",
       "</tbody>\n",
       "</table>\n"
      ],
      "text/latex": [
       "\\begin{tabular}{r|lllllllllllllllllllll}\n",
       "  & PassengerId & Survived & Pclass & Sex & Age & SibSp & Parch & Fare & Embarked & Title & ... & Fsize & Family & FsizeD & Child & Ticket & Deck & Name & Cabin & Mother & \\\\\n",
       "\\hline\n",
       "\t211 & 1    & 1    & 1    & 1    & 1    & 1    & 1    & 1    & 1    & 1    & ...  & 1    & 1    & 1    & 1    &   1  &    1 &    0 &    0 &    0 &    3\\\\\n",
       "\t 84 & 1    & 1    & 1    & 1    & 1    & 1    & 1    & 1    & 1    & 1    & ...  & 1    & 1    & 1    & 1    &   0  &    1 &    0 &    0 &    0 &    4\\\\\n",
       "\t746 & 1    & 1    & 1    & 1    & 1    & 1    & 1    & 1    & 1    & 1    & ...  & 1    & 1    & 1    & 1    &   1  &    0 &    0 &    0 &    0 &    4\\\\\n",
       "\t268 & 1    & 1    & 1    & 1    & 1    & 1    & 1    & 1    & 1    & 1    & ...  & 1    & 1    & 1    & 1    &   0  &    0 &    0 &    0 &    0 &    5\\\\\n",
       "\t & 0    & 0    & 0    & 0    & 0    & 0    & 0    & 0    & 0    & 0    & ...  & 0    & 0    & 0    & 0    & 352  & 1014 & 1309 & 1309 & 1309 & 5293\\\\\n",
       "\\end{tabular}\n"
      ],
      "text/markdown": [
       "\n",
       "| <!--/--> | PassengerId | Survived | Pclass | Sex | Age | SibSp | Parch | Fare | Embarked | Title | ... | Fsize | Family | FsizeD | Child | Ticket | Deck | Name | Cabin | Mother |  | \n",
       "|---|---|---|---|---|\n",
       "| 211 | 1    | 1    | 1    | 1    | 1    | 1    | 1    | 1    | 1    | 1    | ...  | 1    | 1    | 1    | 1    |   1  |    1 |    0 |    0 |    0 |    3 | \n",
       "|  84 | 1    | 1    | 1    | 1    | 1    | 1    | 1    | 1    | 1    | 1    | ...  | 1    | 1    | 1    | 1    |   0  |    1 |    0 |    0 |    0 |    4 | \n",
       "| 746 | 1    | 1    | 1    | 1    | 1    | 1    | 1    | 1    | 1    | 1    | ...  | 1    | 1    | 1    | 1    |   1  |    0 |    0 |    0 |    0 |    4 | \n",
       "| 268 | 1    | 1    | 1    | 1    | 1    | 1    | 1    | 1    | 1    | 1    | ...  | 1    | 1    | 1    | 1    |   0  |    0 |    0 |    0 |    0 |    5 | \n",
       "|  | 0    | 0    | 0    | 0    | 0    | 0    | 0    | 0    | 0    | 0    | ...  | 0    | 0    | 0    | 0    | 352  | 1014 | 1309 | 1309 | 1309 | 5293 | \n",
       "\n",
       "\n"
      ],
      "text/plain": [
       "    PassengerId Survived Pclass Sex Age SibSp Parch Fare Embarked Title ...\n",
       "211 1           1        1      1   1   1     1     1    1        1     ...\n",
       " 84 1           1        1      1   1   1     1     1    1        1     ...\n",
       "746 1           1        1      1   1   1     1     1    1        1     ...\n",
       "268 1           1        1      1   1   1     1     1    1        1     ...\n",
       "    0           0        0      0   0   0     0     0    0        0     ...\n",
       "    Fsize Family FsizeD Child Ticket Deck Name Cabin Mother     \n",
       "211 1     1      1      1       1       1    0    0     0      3\n",
       " 84 1     1      1      1       0       1    0    0     0      4\n",
       "746 1     1      1      1       1       0    0    0     0      4\n",
       "268 1     1      1      1       0       0    0    0     0      5\n",
       "    0     0      0      0     352    1014 1309 1309  1309   5293"
      ]
     },
     "metadata": {},
     "output_type": "display_data"
    }
   ],
   "source": [
    "md.pattern(full)"
   ]
  },
  {
   "cell_type": "code",
   "execution_count": 25,
   "metadata": {},
   "outputs": [],
   "source": [
    "# Now we start predicting the results. Return the data to the training and test sets\n",
    "full = full %>% mutate_if(is.character, as.factor)\n",
    "train = full[1:891, ]\n",
    "test = full[892: 1309, ]"
   ]
  },
  {
   "cell_type": "markdown",
   "metadata": {},
   "source": [
    "# Random Forest Model"
   ]
  },
  {
   "cell_type": "code",
   "execution_count": 26,
   "metadata": {},
   "outputs": [],
   "source": [
    "# Build a model. This will be a random forest\n",
    "set.seed(754)"
   ]
  },
  {
   "cell_type": "code",
   "execution_count": 27,
   "metadata": {},
   "outputs": [
    {
     "data": {
      "image/png": "[encoded data removed]",
      "text/plain": [
       "Plot with title \"rf_model\""
      ]
     },
     "metadata": {},
     "output_type": "display_data"
    }
   ],
   "source": [
    "rf_model <- randomForest(factor(Survived) ~ Pclass + Sex + Age + SibSp + Parch + \n",
    "                                            Fare + Embarked + Title + \n",
    "                                            FsizeD + Child + Mother,\n",
    "                                            data = train)\n",
    "\n",
    "# Show model error\n",
    "plot(rf_model, ylim=c(0,0.36))\n",
    "legend('topright', colnames(rf_model$err.rate), col=1:3, fill=1:3)"
   ]
  },
  {
   "cell_type": "markdown",
   "metadata": {},
   "source": [
    "The black line shows the overall error rate, which falls below 20%. The red and green lines show the error rate for the 'died' and 'survived' respectively. Right now, we predict deaths much better than we're predicting survival."
   ]
  },
  {
   "cell_type": "code",
   "execution_count": 28,
   "metadata": {
    "scrolled": false
   },
   "outputs": [
    {
     "data": {},
     "metadata": {},
     "output_type": "display_data"
    },
    {
     "data": {
      "image/png": "[encoded data removed]",
      "text/plain": [
       "plot without title"
      ]
     },
     "metadata": {},
     "output_type": "display_data"
    }
   ],
   "source": [
    "# Lets find the importance of each variable\n",
    "importance = importance(rf_model)\n",
    "varImportance = data.frame(Variables = row.names(importance), Importance = round(importance[ , 'MeanDecreaseGini'], 2))\n",
    "# Order the variables based on importance\n",
    "rankImportance = varImportance %>% mutate(Rank = paste0('#', dense_rank(desc(Importance))))\n",
    "# Visualize the relative importance of each variable\n",
    "ggplot(rankImportance, aes(x = reorder(Variables, Importance), y = Importance, fill = Importance)) +\n",
    "    geom_bar(stat = \"identity\") + \n",
    "#     geom_text(aes(x = Variables, y = 0.5, label = Rank),\n",
    "#         hjust = 0, vjust = 0.55, size = 4, colour = 'orange') + \n",
    "    scale_fill_gradient(low = \"lightblue\", high = \"dodgerblue4\") + \n",
    "    labs(x = 'Variables', title = \"Random Forest Variable Importance Plot\") + \n",
    "    coord_flip() + \n",
    "    theme(legend.position = \"none\")"
   ]
  },
  {
   "cell_type": "code",
   "execution_count": 29,
   "metadata": {},
   "outputs": [
    {
     "data": {
      "image/png": "[encoded data removed]",
      "text/plain": [
       "Plot with title \"Random Forest Variable Importance Plot\""
      ]
     },
     "metadata": {},
     "output_type": "display_data"
    }
   ],
   "source": [
    "# Same plot, different look\n",
    "varImpPlot(rf_model, main = \"Random Forest Variable Importance Plot\")"
   ]
  },
  {
   "cell_type": "code",
   "execution_count": 30,
   "metadata": {},
   "outputs": [
    {
     "data": {
      "text/html": [
       "0.88755980861244"
      ],
      "text/latex": [
       "0.88755980861244"
      ],
      "text/markdown": [
       "0.88755980861244"
      ],
      "text/plain": [
       "[1] 0.8875598"
      ]
     },
     "metadata": {},
     "output_type": "display_data"
    }
   ],
   "source": [
    "rf_predict = predict(rf_model, test)\n",
    "\n",
    "rf_accuracy = mean(rf_predict == test$Survived)\n",
    "rf_accuracy"
   ]
  },
  {
   "cell_type": "code",
   "execution_count": 31,
   "metadata": {},
   "outputs": [
    {
     "data": {
      "text/html": [
       "0.843137254901961"
      ],
      "text/latex": [
       "0.843137254901961"
      ],
      "text/markdown": [
       "0.843137254901961"
      ],
      "text/plain": [
       "[1] 0.8431373"
      ]
     },
     "metadata": {},
     "output_type": "display_data"
    },
    {
     "data": {
      "text/html": [
       "0.848684210526316"
      ],
      "text/latex": [
       "0.848684210526316"
      ],
      "text/markdown": [
       "0.848684210526316"
      ],
      "text/plain": [
       "[1] 0.8486842"
      ]
     },
     "metadata": {},
     "output_type": "display_data"
    },
    {
     "data": {
      "text/html": [
       "0.845901639344262"
      ],
      "text/latex": [
       "0.845901639344262"
      ],
      "text/markdown": [
       "0.845901639344262"
      ],
      "text/plain": [
       "[1] 0.8459016"
      ]
     },
     "metadata": {},
     "output_type": "display_data"
    }
   ],
   "source": [
    "rf_prop_survived = sum(as.integer(rf_predict) - 1) / length(test$Survived)\n",
    "\n",
    "predictions = as.factor(rf_predict)\n",
    "y = as.factor(test$Survived)\n",
    "\n",
    "rf_precision <- posPredValue(predictions, y, positive=\"1\")\n",
    "rf_recall <- sensitivity(predictions, y, positive=\"1\")\n",
    "\n",
    "rf_F1 <- (2 * rf_precision * rf_recall) / (rf_precision + rf_recall)\n",
    "\n",
    "rf_precision\n",
    "rf_recall\n",
    "rf_F1\n",
    "\n",
    "rf_results = c(\"Random Forest\", rf_accuracy, rf_precision, rf_recall, rf_F1, rf_prop_survived, 1 - rf_prop_survived)"
   ]
  },
  {
   "cell_type": "code",
   "execution_count": 32,
   "metadata": {},
   "outputs": [
    {
     "data": {
      "text/html": [
       "0.913875598086124"
      ],
      "text/latex": [
       "0.913875598086124"
      ],
      "text/markdown": [
       "0.913875598086124"
      ],
      "text/plain": [
       "[1] 0.9138756"
      ]
     },
     "metadata": {},
     "output_type": "display_data"
    }
   ],
   "source": [
    "rf_red_model <- randomForest(factor(Survived) ~ Pclass + Sex + Age + Fare + Title + FsizeD, data = train)\n",
    "\n",
    "rf_red_predict = predict(rf_red_model, test)\n",
    "\n",
    "rf_red_accuracy = mean(rf_red_predict == test$Survived)\n",
    "rf_red_accuracy"
   ]
  },
  {
   "cell_type": "code",
   "execution_count": 33,
   "metadata": {},
   "outputs": [
    {
     "data": {
      "text/html": [
       "0.867088607594937"
      ],
      "text/latex": [
       "0.867088607594937"
      ],
      "text/markdown": [
       "0.867088607594937"
      ],
      "text/plain": [
       "[1] 0.8670886"
      ]
     },
     "metadata": {},
     "output_type": "display_data"
    },
    {
     "data": {
      "text/html": [
       "0.901315789473684"
      ],
      "text/latex": [
       "0.901315789473684"
      ],
      "text/markdown": [
       "0.901315789473684"
      ],
      "text/plain": [
       "[1] 0.9013158"
      ]
     },
     "metadata": {},
     "output_type": "display_data"
    },
    {
     "data": {
      "text/html": [
       "0.883870967741936"
      ],
      "text/latex": [
       "0.883870967741936"
      ],
      "text/markdown": [
       "0.883870967741936"
      ],
      "text/plain": [
       "[1] 0.883871"
      ]
     },
     "metadata": {},
     "output_type": "display_data"
    }
   ],
   "source": [
    "rf_red_prop_survived = sum(as.integer(rf_red_predict) - 1) / length(test$Survived)\n",
    "\n",
    "predictions = as.factor(rf_red_predict)\n",
    "y = as.factor(test$Survived)\n",
    "\n",
    "rf_red_precision <- posPredValue(predictions, y, positive=\"1\")\n",
    "rf_red_recall <- sensitivity(predictions, y, positive=\"1\")\n",
    "\n",
    "rf_red_F1 <- (2 * rf_red_precision * rf_red_recall) / (rf_red_precision + rf_red_recall)\n",
    "\n",
    "rf_red_precision\n",
    "rf_red_recall\n",
    "rf_red_F1\n",
    "\n",
    "rf_red_results = c(\"Reduced Random Forest\", rf_red_accuracy, rf_red_precision, rf_red_recall, rf_red_F1, rf_red_prop_survived, 1 - rf_red_prop_survived)"
   ]
  },
  {
   "cell_type": "markdown",
   "metadata": {},
   "source": [
    "# Logistic Regression Model"
   ]
  },
  {
   "cell_type": "code",
   "execution_count": 34,
   "metadata": {},
   "outputs": [
    {
     "data": {
      "text/html": [
       "0.930622009569378"
      ],
      "text/latex": [
       "0.930622009569378"
      ],
      "text/markdown": [
       "0.930622009569378"
      ],
      "text/plain": [
       "[1] 0.930622"
      ]
     },
     "metadata": {},
     "output_type": "display_data"
    }
   ],
   "source": [
    "# Fit a logistic regression model on all the same variables as the random forest model\n",
    "glm_model = glm(Survived ~ Pclass + Sex + Age + SibSp + Parch + \n",
    "                        Fare + Embarked + Title + \n",
    "                        FsizeD + Child + Mother,\n",
    "                        data = train, family = binomial)\n",
    "\n",
    "glm_probs = glm_model %>% predict(test, type = \"response\")\n",
    "glm_predict = ifelse(glm_probs > 0.5, 1, 0)\n",
    "# test$glm_predict = glm_predict\n",
    "\n",
    "glm_accuracy = mean(glm_predict == test$Survived)\n",
    "glm_accuracy"
   ]
  },
  {
   "cell_type": "code",
   "execution_count": 35,
   "metadata": {},
   "outputs": [
    {
     "data": {
      "text/html": [
       "0.409090909090909"
      ],
      "text/latex": [
       "0.409090909090909"
      ],
      "text/markdown": [
       "0.409090909090909"
      ],
      "text/plain": [
       "[1] 0.4090909"
      ]
     },
     "metadata": {},
     "output_type": "display_data"
    },
    {
     "data": {
      "text/html": [
       "0.859649122807018"
      ],
      "text/latex": [
       "0.859649122807018"
      ],
      "text/markdown": [
       "0.859649122807018"
      ],
      "text/plain": [
       "[1] 0.8596491"
      ]
     },
     "metadata": {},
     "output_type": "display_data"
    },
    {
     "data": {
      "text/html": [
       "0.967105263157895"
      ],
      "text/latex": [
       "0.967105263157895"
      ],
      "text/markdown": [
       "0.967105263157895"
      ],
      "text/plain": [
       "[1] 0.9671053"
      ]
     },
     "metadata": {},
     "output_type": "display_data"
    },
    {
     "data": {
      "text/html": [
       "0.910216718266254"
      ],
      "text/latex": [
       "0.910216718266254"
      ],
      "text/markdown": [
       "0.910216718266254"
      ],
      "text/plain": [
       "[1] 0.9102167"
      ]
     },
     "metadata": {},
     "output_type": "display_data"
    }
   ],
   "source": [
    "glm_prop_survived = sum(as.integer(glm_predict)) / length(test$Survived)\n",
    "\n",
    "predictions = as.factor(glm_predict)\n",
    "y = as.factor(test$Survived)\n",
    "\n",
    "glm_precision <- posPredValue(predictions, y, positive=\"1\")\n",
    "glm_recall <- sensitivity(predictions, y, positive=\"1\")\n",
    "\n",
    "glm_F1 <- (2 * glm_precision * glm_recall) / (glm_precision + glm_recall)\n",
    "\n",
    "glm_prop_survived\n",
    "glm_precision\n",
    "glm_recall\n",
    "glm_F1\n",
    "\n",
    "glm_results = c(\"GLM\", glm_accuracy, glm_precision, glm_recall, glm_F1, glm_prop_survived, 1 - glm_prop_survived)"
   ]
  },
  {
   "cell_type": "code",
   "execution_count": 36,
   "metadata": {
    "scrolled": false
   },
   "outputs": [
    {
     "name": "stdout",
     "output_type": "stream",
     "text": [
      "Start:  AIC=747.6\n",
      "Survived ~ Pclass + Sex + Age + SibSp + Parch + Fare + Embarked + \n",
      "    Title + FsizeD + Child + Mother\n",
      "\n",
      "           Df Deviance    AIC\n",
      "- SibSp     1   711.68 745.68\n",
      "- Mother    1   711.92 745.92\n",
      "- Parch     1   712.07 746.07\n",
      "- Embarked  2   714.12 746.12\n",
      "- Child     1   712.16 746.16\n",
      "- Fare      1   713.54 747.54\n",
      "<none>          711.60 747.60\n",
      "- Sex       1   717.20 751.20\n",
      "- Age       1   718.19 752.19\n",
      "- FsizeD    2   725.11 757.11\n",
      "- Pclass    2   753.90 785.90\n",
      "- Title     4   762.21 790.21\n",
      "\n",
      "Step:  AIC=745.68\n",
      "Survived ~ Pclass + Sex + Age + Parch + Fare + Embarked + Title + \n",
      "    FsizeD + Child + Mother\n",
      "\n",
      "           Df Deviance    AIC\n",
      "- Mother    1   711.99 743.99\n",
      "- Embarked  2   714.27 744.27\n",
      "- Child     1   712.28 744.28\n",
      "- Parch     1   712.52 744.52\n",
      "- Fare      1   713.62 745.62\n",
      "<none>          711.68 745.68\n",
      "- Sex       1   717.31 749.31\n",
      "- Age       1   718.28 750.28\n",
      "- FsizeD    2   748.02 778.02\n",
      "- Pclass    2   754.41 784.41\n",
      "- Title     4   762.21 788.21\n",
      "\n",
      "Step:  AIC=743.99\n",
      "Survived ~ Pclass + Sex + Age + Parch + Fare + Embarked + Title + \n",
      "    FsizeD + Child\n",
      "\n",
      "           Df Deviance    AIC\n",
      "- Child     1   712.47 742.47\n",
      "- Parch     1   712.53 742.53\n",
      "- Embarked  2   714.54 742.54\n",
      "<none>          711.99 743.99\n",
      "- Fare      1   714.05 744.05\n",
      "- Sex       1   717.59 747.59\n",
      "- Age       1   718.62 748.62\n",
      "- FsizeD    2   748.12 776.12\n",
      "- Pclass    2   754.91 782.91\n",
      "- Title     4   762.31 786.31\n",
      "\n",
      "Step:  AIC=742.47\n",
      "Survived ~ Pclass + Sex + Age + Parch + Fare + Embarked + Title + \n",
      "    FsizeD\n",
      "\n",
      "           Df Deviance    AIC\n",
      "- Embarked  2   714.88 740.88\n",
      "- Parch     1   712.92 740.92\n",
      "<none>          712.47 742.47\n",
      "- Fare      1   714.92 742.92\n",
      "- Sex       1   718.10 746.10\n",
      "- Age       1   718.72 746.72\n",
      "- FsizeD    2   750.17 776.17\n",
      "- Pclass    2   755.08 781.08\n",
      "- Title     4   764.71 786.71\n",
      "\n",
      "Step:  AIC=740.88\n",
      "Survived ~ Pclass + Sex + Age + Parch + Fare + Title + FsizeD\n",
      "\n",
      "         Df Deviance    AIC\n",
      "- Parch   1   715.31 739.31\n",
      "<none>        714.88 740.88\n",
      "- Fare    1   718.18 742.18\n",
      "- Sex     1   720.39 744.39\n",
      "- Age     1   721.06 745.06\n",
      "- FsizeD  2   756.65 778.65\n",
      "- Pclass  2   757.89 779.89\n",
      "- Title   4   767.05 785.05\n",
      "\n",
      "Step:  AIC=739.31\n",
      "Survived ~ Pclass + Sex + Age + Fare + Title + FsizeD\n",
      "\n",
      "         Df Deviance    AIC\n",
      "<none>        715.31 739.31\n",
      "- Fare    1   718.80 740.80\n",
      "- Sex     1   720.77 742.77\n",
      "- Age     1   721.58 743.58\n",
      "- Pclass  2   758.11 778.11\n",
      "- Title   4   769.69 785.69\n",
      "- FsizeD  2   774.99 794.99\n"
     ]
    },
    {
     "data": {
      "text/html": [
       "0.942583732057416"
      ],
      "text/latex": [
       "0.942583732057416"
      ],
      "text/markdown": [
       "0.942583732057416"
      ],
      "text/plain": [
       "[1] 0.9425837"
      ]
     },
     "metadata": {},
     "output_type": "display_data"
    }
   ],
   "source": [
    "# Repeat prediction with simplified model\n",
    "# Use AIC to reduce model to simplist state\n",
    "modAIC = stepAIC(glm_model)\n",
    "\n",
    "AIC_probs = modAIC %>% predict(test, type = \"response\")\n",
    "AIC_predict = ifelse(AIC_probs > 0.5, 1, 0)\n",
    "\n",
    "AIC_accuracy = mean(AIC_predict == test$Survived)\n",
    "AIC_accuracy"
   ]
  },
  {
   "cell_type": "code",
   "execution_count": 37,
   "metadata": {},
   "outputs": [
    {
     "data": {
      "text/html": [
       "0.397129186602871"
      ],
      "text/latex": [
       "0.397129186602871"
      ],
      "text/markdown": [
       "0.397129186602871"
      ],
      "text/plain": [
       "[1] 0.3971292"
      ]
     },
     "metadata": {},
     "output_type": "display_data"
    },
    {
     "data": {
      "text/html": [
       "0.885542168674699"
      ],
      "text/latex": [
       "0.885542168674699"
      ],
      "text/markdown": [
       "0.885542168674699"
      ],
      "text/plain": [
       "[1] 0.8855422"
      ]
     },
     "metadata": {},
     "output_type": "display_data"
    },
    {
     "data": {
      "text/html": [
       "0.967105263157895"
      ],
      "text/latex": [
       "0.967105263157895"
      ],
      "text/markdown": [
       "0.967105263157895"
      ],
      "text/plain": [
       "[1] 0.9671053"
      ]
     },
     "metadata": {},
     "output_type": "display_data"
    },
    {
     "data": {
      "text/html": [
       "0.924528301886793"
      ],
      "text/latex": [
       "0.924528301886793"
      ],
      "text/markdown": [
       "0.924528301886793"
      ],
      "text/plain": [
       "[1] 0.9245283"
      ]
     },
     "metadata": {},
     "output_type": "display_data"
    }
   ],
   "source": [
    "AIC_prop_survived = sum(as.integer(AIC_predict)) / length(test$Survived)\n",
    "\n",
    "predictions = as.factor(AIC_predict)\n",
    "y = as.factor(test$Survived)\n",
    "\n",
    "AIC_precision <- posPredValue(predictions, y, positive=\"1\")\n",
    "AIC_recall <- sensitivity(predictions, y, positive=\"1\")\n",
    "\n",
    "AIC_F1 <- (2 * AIC_precision * AIC_recall) / (AIC_precision + AIC_recall)\n",
    "\n",
    "AIC_prop_survived\n",
    "AIC_precision\n",
    "AIC_recall\n",
    "AIC_F1\n",
    "\n",
    "AIC_results = c(\"Reduced GLM\", AIC_accuracy, AIC_precision, AIC_recall, AIC_F1, AIC_prop_survived, 1 - AIC_prop_survived)"
   ]
  },
  {
   "cell_type": "markdown",
   "metadata": {},
   "source": [
    "# Generalize Additive Model"
   ]
  },
  {
   "cell_type": "code",
   "execution_count": 38,
   "metadata": {
    "scrolled": false
   },
   "outputs": [
    {
     "data": {
      "text/plain": [
       "\n",
       "Family: gaussian \n",
       "Link function: identity \n",
       "\n",
       "Formula:\n",
       "Survived ~ Pclass + Sex + s(Age) + SibSp + Parch + s(Fare) + \n",
       "    Embarked + Title + FsizeD + Child + Mother\n",
       "\n",
       "Parametric coefficients:\n",
       "                  Estimate Std. Error t value Pr(>|t|)    \n",
       "(Intercept)       0.932206   0.283949   3.283  0.00107 ** \n",
       "Pclass2          -0.137724   0.052899  -2.604  0.00938 ** \n",
       "Pclass3          -0.245491   0.058004  -4.232 2.56e-05 ***\n",
       "Sexmale          -0.646715   0.222586  -2.905  0.00376 ** \n",
       "SibSp             0.003641   0.023233   0.157  0.87550    \n",
       "Parch             0.044378   0.029095   1.525  0.12756    \n",
       "EmbarkedQ         0.012609   0.053734   0.235  0.81453    \n",
       "EmbarkedS        -0.040687   0.033588  -1.211  0.22609    \n",
       "TitleMiss        -0.713977   0.234709  -3.042  0.00242 ** \n",
       "TitleMr          -0.613569   0.080831  -7.591 8.22e-14 ***\n",
       "TitleMrs         -0.621166   0.240008  -2.588  0.00981 ** \n",
       "TitleRare_Title  -0.628412   0.114712  -5.478 5.63e-08 ***\n",
       "FsizeDsingleton   0.643481   0.132141   4.870 1.33e-06 ***\n",
       "FsizeDsmall       0.569075   0.103372   5.505 4.86e-08 ***\n",
       "ChildChild        0.036136   0.062244   0.581  0.56169    \n",
       "MotherNot_Mother  0.076667   0.076547   1.002  0.31683    \n",
       "---\n",
       "Signif. codes:  0 '***' 0.001 '**' 0.01 '*' 0.05 '.' 0.1 ' ' 1\n",
       "\n",
       "Approximate significance of smooth terms:\n",
       "          edf Ref.df     F p-value  \n",
       "s(Age)  3.726  4.673 2.567  0.0331 *\n",
       "s(Fare) 5.049  6.040 1.834  0.0918 .\n",
       "---\n",
       "Signif. codes:  0 '***' 0.001 '**' 0.01 '*' 0.05 '.' 0.1 ' ' 1\n",
       "\n",
       "R-sq.(adj) =  0.459   Deviance explained = 47.4%\n",
       "GCV = 0.13165  Scale est. = 0.12799   n = 891"
      ]
     },
     "metadata": {},
     "output_type": "display_data"
    }
   ],
   "source": [
    "# With all predictors\n",
    "GAM_model = gam(Survived ~ Pclass + Sex + s(Age) + SibSp + Parch + \n",
    "                s(Fare) + Embarked + Title + \n",
    "                FsizeD + Child + Mother, data = train)\n",
    "summary(GAM_model)"
   ]
  },
  {
   "cell_type": "code",
   "execution_count": 39,
   "metadata": {},
   "outputs": [
    {
     "data": {
      "text/html": [
       "0.952153110047847"
      ],
      "text/latex": [
       "0.952153110047847"
      ],
      "text/markdown": [
       "0.952153110047847"
      ],
      "text/plain": [
       "[1] 0.9521531"
      ]
     },
     "metadata": {},
     "output_type": "display_data"
    }
   ],
   "source": [
    "GAM_probs = GAM_model %>% predict(test, type = \"response\")\n",
    "GAM_predict = ifelse(GAM_probs > 0.5, 1, 0)\n",
    "# test$glm_predict = glm_predict\n",
    "\n",
    "GAM_accuracy = mean(GAM_predict == test$Survived)\n",
    "GAM_accuracy"
   ]
  },
  {
   "cell_type": "code",
   "execution_count": 40,
   "metadata": {},
   "outputs": [
    {
     "data": {
      "text/html": [
       "0.392344497607655"
      ],
      "text/latex": [
       "0.392344497607655"
      ],
      "text/markdown": [
       "0.392344497607655"
      ],
      "text/plain": [
       "[1] 0.3923445"
      ]
     },
     "metadata": {},
     "output_type": "display_data"
    },
    {
     "data": {
      "text/html": [
       "0.902439024390244"
      ],
      "text/latex": [
       "0.902439024390244"
      ],
      "text/markdown": [
       "0.902439024390244"
      ],
      "text/plain": [
       "[1] 0.902439"
      ]
     },
     "metadata": {},
     "output_type": "display_data"
    },
    {
     "data": {
      "text/html": [
       "0.973684210526316"
      ],
      "text/latex": [
       "0.973684210526316"
      ],
      "text/markdown": [
       "0.973684210526316"
      ],
      "text/plain": [
       "[1] 0.9736842"
      ]
     },
     "metadata": {},
     "output_type": "display_data"
    },
    {
     "data": {
      "text/html": [
       "0.936708860759494"
      ],
      "text/latex": [
       "0.936708860759494"
      ],
      "text/markdown": [
       "0.936708860759494"
      ],
      "text/plain": [
       "[1] 0.9367089"
      ]
     },
     "metadata": {},
     "output_type": "display_data"
    }
   ],
   "source": [
    "GAM_prop_survived = sum(as.integer(GAM_predict)) / length(test$Survived)\n",
    "\n",
    "predictions = as.factor(GAM_predict)\n",
    "y = as.factor(test$Survived)\n",
    "\n",
    "GAM_precision <- posPredValue(predictions, y, positive=\"1\")\n",
    "GAM_recall <- sensitivity(predictions, y, positive=\"1\")\n",
    "\n",
    "GAM_F1 <- (2 * GAM_precision * GAM_recall) / (GAM_precision + GAM_recall)\n",
    "\n",
    "GAM_prop_survived\n",
    "GAM_precision\n",
    "GAM_recall\n",
    "GAM_F1\n",
    "\n",
    "GAM_results = c(\"GAM\", GAM_accuracy, GAM_precision, GAM_recall, GAM_F1, GAM_prop_survived, 1 - GAM_prop_survived)"
   ]
  },
  {
   "cell_type": "code",
   "execution_count": 41,
   "metadata": {},
   "outputs": [
    {
     "data": {
      "text/html": [
       "0.949760765550239"
      ],
      "text/latex": [
       "0.949760765550239"
      ],
      "text/markdown": [
       "0.949760765550239"
      ],
      "text/plain": [
       "[1] 0.9497608"
      ]
     },
     "metadata": {},
     "output_type": "display_data"
    }
   ],
   "source": [
    "GAM_AIC_model = gam(Survived ~ Pclass + Sex + s(Age) + s(Fare) + Title + FsizeD, data = train)\n",
    "\n",
    "GAM_AIC_probs = GAM_AIC_model %>% predict(test, type = \"response\")\n",
    "GAM_AIC_predict = ifelse(GAM_AIC_probs > 0.5, 1, 0)\n",
    "# test$glm_predict = glm_predict\n",
    "\n",
    "GAM_AIC_accuracy = mean(GAM_AIC_predict == test$Survived)\n",
    "GAM_AIC_accuracy"
   ]
  },
  {
   "cell_type": "code",
   "execution_count": 76,
   "metadata": {},
   "outputs": [
    {
     "data": {
      "image/png": "[encoded data removed]",
      "text/plain": [
       "Plot with title \"GAM Precision-Recall Curve\""
      ]
     },
     "metadata": {},
     "output_type": "display_data"
    },
    {
     "data": {
      "image/png": "[encoded data removed]",
      "text/plain": [
       "Plot with title \"GAM AUC-ROC Curve\""
      ]
     },
     "metadata": {},
     "output_type": "display_data"
    }
   ],
   "source": [
    "pred <- prediction(list(GAM_AIC_probs), test$Survived);\n",
    "\n",
    "# Recall-Precision curve             \n",
    "RP.perf <- performance(pred, \"prec\", \"rec\");\n",
    "plot (RP.perf, main = \"GAM Precision-Recall Curve\");\n",
    "\n",
    "# ROC curve\n",
    "ROC.perf <- performance(pred, \"tpr\", \"fpr\");\n",
    "plot (ROC.perf, main = \"GAM AUC-ROC Curve\");\n",
    "\n",
    "# ROC area under the curve\n",
    "auc.tmp <- performance(pred,\"auc\");\n",
    "auc <- as.numeric(auc.tmp@y.values)"
   ]
  },
  {
   "cell_type": "code",
   "execution_count": 43,
   "metadata": {},
   "outputs": [
    {
     "data": {
      "text/html": [
       "0.389952153110048"
      ],
      "text/latex": [
       "0.389952153110048"
      ],
      "text/markdown": [
       "0.389952153110048"
      ],
      "text/plain": [
       "[1] 0.3899522"
      ]
     },
     "metadata": {},
     "output_type": "display_data"
    },
    {
     "data": {
      "text/html": [
       "0.901840490797546"
      ],
      "text/latex": [
       "0.901840490797546"
      ],
      "text/markdown": [
       "0.901840490797546"
      ],
      "text/plain": [
       "[1] 0.9018405"
      ]
     },
     "metadata": {},
     "output_type": "display_data"
    },
    {
     "data": {
      "text/html": [
       "0.967105263157895"
      ],
      "text/latex": [
       "0.967105263157895"
      ],
      "text/markdown": [
       "0.967105263157895"
      ],
      "text/plain": [
       "[1] 0.9671053"
      ]
     },
     "metadata": {},
     "output_type": "display_data"
    },
    {
     "data": {
      "text/html": [
       "0.933333333333333"
      ],
      "text/latex": [
       "0.933333333333333"
      ],
      "text/markdown": [
       "0.933333333333333"
      ],
      "text/plain": [
       "[1] 0.9333333"
      ]
     },
     "metadata": {},
     "output_type": "display_data"
    }
   ],
   "source": [
    "GAM_AIC_prop_survived = sum(as.integer(GAM_AIC_predict)) / length(test$Survived)\n",
    "\n",
    "predictions = as.factor(GAM_AIC_predict)\n",
    "y = as.factor(test$Survived)\n",
    "\n",
    "GAM_AIC_precision <- posPredValue(predictions, y, positive=\"1\")\n",
    "GAM_AIC_recall <- sensitivity(predictions, y, positive=\"1\")\n",
    "\n",
    "GAM_AIC_F1 <- (2 * GAM_AIC_precision * GAM_AIC_recall) / (GAM_AIC_precision + GAM_AIC_recall)\n",
    "\n",
    "GAM_AIC_prop_survived\n",
    "GAM_AIC_precision\n",
    "GAM_AIC_recall\n",
    "GAM_AIC_F1\n",
    "\n",
    "GAM_AIC_results = c(\"Reduced GAM\", GAM_AIC_accuracy, GAM_AIC_precision, GAM_AIC_recall, GAM_AIC_F1, GAM_AIC_prop_survived, 1 - GAM_AIC_prop_survived)"
   ]
  },
  {
   "cell_type": "markdown",
   "metadata": {},
   "source": [
    "GAM predicted that a passenger survived correctly 90% of the time (precision). Recall tells us that it predicted the survival of 97% of the people who actually surived."
   ]
  },
  {
   "cell_type": "markdown",
   "metadata": {},
   "source": [
    "# Naive Bayes"
   ]
  },
  {
   "cell_type": "code",
   "execution_count": 44,
   "metadata": {},
   "outputs": [
    {
     "data": {
      "text/plain": [
       "        Length Class  Mode   \n",
       "apriori  2     table  numeric\n",
       "tables  11     -none- list   \n",
       "levels   0     -none- NULL   \n",
       "call     4     -none- call   "
      ]
     },
     "metadata": {},
     "output_type": "display_data"
    },
    {
     "data": {
      "text/html": [
       "0.935406698564593"
      ],
      "text/latex": [
       "0.935406698564593"
      ],
      "text/markdown": [
       "0.935406698564593"
      ],
      "text/plain": [
       "[1] 0.9354067"
      ]
     },
     "metadata": {},
     "output_type": "display_data"
    }
   ],
   "source": [
    "nb_model <- naiveBayes(Survived ~ Pclass + Sex + Age + \n",
    "                      SibSp + Parch + Fare + Embarked + \n",
    "                      Title + FsizeD + Child + Mother, data = train)\n",
    "summary(nb_model)\n",
    "\n",
    "nb_probs = predict(nb_model, test, type = \"raw\")\n",
    "nb_predict = apply(nb_probs, 1, function(x) ifelse(x[1] > x[2], 0, 1))\n",
    "\n",
    "nb_accuracy = mean(nb_predict == test$Survived)\n",
    "nb_accuracy"
   ]
  },
  {
   "cell_type": "code",
   "execution_count": 45,
   "metadata": {},
   "outputs": [
    {
     "data": {
      "text/html": [
       "0.409090909090909"
      ],
      "text/latex": [
       "0.409090909090909"
      ],
      "text/markdown": [
       "0.409090909090909"
      ],
      "text/plain": [
       "[1] 0.4090909"
      ]
     },
     "metadata": {},
     "output_type": "display_data"
    },
    {
     "data": {
      "text/html": [
       "0.865497076023392"
      ],
      "text/latex": [
       "0.865497076023392"
      ],
      "text/markdown": [
       "0.865497076023392"
      ],
      "text/plain": [
       "[1] 0.8654971"
      ]
     },
     "metadata": {},
     "output_type": "display_data"
    },
    {
     "data": {
      "text/html": [
       "0.973684210526316"
      ],
      "text/latex": [
       "0.973684210526316"
      ],
      "text/markdown": [
       "0.973684210526316"
      ],
      "text/plain": [
       "[1] 0.9736842"
      ]
     },
     "metadata": {},
     "output_type": "display_data"
    },
    {
     "data": {
      "text/html": [
       "0.91640866873065"
      ],
      "text/latex": [
       "0.91640866873065"
      ],
      "text/markdown": [
       "0.91640866873065"
      ],
      "text/plain": [
       "[1] 0.9164087"
      ]
     },
     "metadata": {},
     "output_type": "display_data"
    }
   ],
   "source": [
    "nb_prop_survived = sum(as.integer(nb_predict)) / length(test$Survived)\n",
    "\n",
    "predictions = as.factor(nb_predict)\n",
    "y = as.factor(test$Survived)\n",
    "\n",
    "nb_precision <- posPredValue(predictions, y, positive=\"1\")\n",
    "nb_recall <- sensitivity(predictions, y, positive=\"1\")\n",
    "\n",
    "nb_F1 <- (2 * nb_precision * nb_recall) / (nb_precision + nb_recall)\n",
    "\n",
    "nb_prop_survived\n",
    "nb_precision\n",
    "nb_recall\n",
    "nb_F1\n",
    "\n",
    "nb_results = c(\"Naive Bayes\", nb_accuracy, nb_precision, nb_recall, nb_F1, nb_prop_survived, 1 - nb_prop_survived)"
   ]
  },
  {
   "cell_type": "code",
   "execution_count": 46,
   "metadata": {},
   "outputs": [
    {
     "data": {
      "text/plain": [
       "        Length Class  Mode   \n",
       "apriori 2      table  numeric\n",
       "tables  6      -none- list   \n",
       "levels  0      -none- NULL   \n",
       "call    4      -none- call   "
      ]
     },
     "metadata": {},
     "output_type": "display_data"
    },
    {
     "data": {
      "text/html": [
       "0.95933014354067"
      ],
      "text/latex": [
       "0.95933014354067"
      ],
      "text/markdown": [
       "0.95933014354067"
      ],
      "text/plain": [
       "[1] 0.9593301"
      ]
     },
     "metadata": {},
     "output_type": "display_data"
    }
   ],
   "source": [
    "nb_red_model <- naiveBayes(Survived ~ Pclass + Sex + Age + Fare + Title + FsizeD, data = train)\n",
    "\n",
    "summary(nb_red_model)\n",
    "\n",
    "nb_red_probs = predict(nb_red_model, test, type = \"raw\")\n",
    "nb_red_predict = apply(nb_red_probs, 1, function(x) ifelse(x[1] > x[2], 0, 1))\n",
    "\n",
    "nb_red_accuracy = mean(nb_red_predict == test$Survived)\n",
    "nb_red_accuracy"
   ]
  },
  {
   "cell_type": "code",
   "execution_count": 47,
   "metadata": {},
   "outputs": [
    {
     "data": {
      "text/html": [
       "0.399521531100478"
      ],
      "text/latex": [
       "0.399521531100478"
      ],
      "text/markdown": [
       "0.399521531100478"
      ],
      "text/plain": [
       "[1] 0.3995215"
      ]
     },
     "metadata": {},
     "output_type": "display_data"
    },
    {
     "data": {
      "text/html": [
       "0.904191616766467"
      ],
      "text/latex": [
       "0.904191616766467"
      ],
      "text/markdown": [
       "0.904191616766467"
      ],
      "text/plain": [
       "[1] 0.9041916"
      ]
     },
     "metadata": {},
     "output_type": "display_data"
    },
    {
     "data": {
      "text/html": [
       "0.993421052631579"
      ],
      "text/latex": [
       "0.993421052631579"
      ],
      "text/markdown": [
       "0.993421052631579"
      ],
      "text/plain": [
       "[1] 0.9934211"
      ]
     },
     "metadata": {},
     "output_type": "display_data"
    },
    {
     "data": {
      "text/html": [
       "0.946708463949843"
      ],
      "text/latex": [
       "0.946708463949843"
      ],
      "text/markdown": [
       "0.946708463949843"
      ],
      "text/plain": [
       "[1] 0.9467085"
      ]
     },
     "metadata": {},
     "output_type": "display_data"
    }
   ],
   "source": [
    "nb_red_prop_survived = sum(as.integer(nb_red_predict)) / length(test$Survived)\n",
    "\n",
    "predictions = as.factor(nb_red_predict)\n",
    "y = as.factor(test$Survived)\n",
    "\n",
    "nb_red_precision <- posPredValue(predictions, y, positive=\"1\")\n",
    "nb_red_recall <- sensitivity(predictions, y, positive=\"1\")\n",
    "\n",
    "nb_red_F1 <- (2 * nb_red_precision * nb_red_recall) / (nb_red_precision + nb_red_recall)\n",
    "\n",
    "nb_red_prop_survived\n",
    "nb_red_precision\n",
    "nb_red_recall\n",
    "nb_red_F1\n",
    "\n",
    "nb_red_results = c(\"Reduced Naive Bayes\", nb_red_accuracy, nb_red_precision, nb_red_recall, nb_red_F1, nb_red_prop_survived, 1 - nb_red_prop_survived)"
   ]
  },
  {
   "cell_type": "markdown",
   "metadata": {},
   "source": [
    "# Linear Support Vector Machines"
   ]
  },
  {
   "cell_type": "code",
   "execution_count": 48,
   "metadata": {
    "scrolled": true
   },
   "outputs": [
    {
     "data": {
      "text/html": [
       "0.947368421052632"
      ],
      "text/latex": [
       "0.947368421052632"
      ],
      "text/markdown": [
       "0.947368421052632"
      ],
      "text/plain": [
       "[1] 0.9473684"
      ]
     },
     "metadata": {},
     "output_type": "display_data"
    }
   ],
   "source": [
    "svm_model = svm(factor(Survived) ~ Pclass + Sex + Age + \n",
    "                      SibSp + Parch + Fare + Embarked + \n",
    "                      Title + FsizeD + Child + Mother, data = train[ ,-c(11, 18)], probability = TRUE)\n",
    "# svm_model\n",
    "# Had to remove the cabin and deck variables because it wasn't predicting the rows with the missing values\n",
    "svm_predict = predict(svm_model, newdata = test[, -c(11, 18)], probability = TRUE)\n",
    "\n",
    "svm_accuracy = mean(svm_predict == test$Survived)\n",
    "svm_accuracy"
   ]
  },
  {
   "cell_type": "code",
   "execution_count": 49,
   "metadata": {},
   "outputs": [
    {
     "data": {
      "text/html": [
       "0.38755980861244"
      ],
      "text/latex": [
       "0.38755980861244"
      ],
      "text/markdown": [
       "0.38755980861244"
      ],
      "text/plain": [
       "[1] 0.3875598"
      ]
     },
     "metadata": {},
     "output_type": "display_data"
    },
    {
     "data": {
      "text/html": [
       "0.901234567901235"
      ],
      "text/latex": [
       "0.901234567901235"
      ],
      "text/markdown": [
       "0.901234567901235"
      ],
      "text/plain": [
       "[1] 0.9012346"
      ]
     },
     "metadata": {},
     "output_type": "display_data"
    },
    {
     "data": {
      "text/html": [
       "0.960526315789474"
      ],
      "text/latex": [
       "0.960526315789474"
      ],
      "text/markdown": [
       "0.960526315789474"
      ],
      "text/plain": [
       "[1] 0.9605263"
      ]
     },
     "metadata": {},
     "output_type": "display_data"
    },
    {
     "data": {
      "text/html": [
       "0.929936305732484"
      ],
      "text/latex": [
       "0.929936305732484"
      ],
      "text/markdown": [
       "0.929936305732484"
      ],
      "text/plain": [
       "[1] 0.9299363"
      ]
     },
     "metadata": {},
     "output_type": "display_data"
    }
   ],
   "source": [
    "svm_prop_survived = sum(as.integer(svm_predict) - 1) / length(test$Survived)\n",
    "\n",
    "predictions = as.factor(svm_predict)\n",
    "y = as.factor(test$Survived)\n",
    "\n",
    "svm_precision <- posPredValue(predictions, y, positive=\"1\")\n",
    "svm_recall <- sensitivity(predictions, y, positive=\"1\")\n",
    "\n",
    "svm_F1 <- (2 * svm_precision * svm_recall) / (svm_precision + svm_recall)\n",
    "\n",
    "svm_prop_survived\n",
    "svm_precision\n",
    "svm_recall\n",
    "svm_F1\n",
    "\n",
    "svm_results = c(\"Linear SVM\", svm_accuracy, svm_precision, svm_recall, svm_F1, svm_prop_survived, 1 - svm_prop_survived)"
   ]
  },
  {
   "cell_type": "code",
   "execution_count": 50,
   "metadata": {},
   "outputs": [
    {
     "data": {
      "text/html": [
       "0.949760765550239"
      ],
      "text/latex": [
       "0.949760765550239"
      ],
      "text/markdown": [
       "0.949760765550239"
      ],
      "text/plain": [
       "[1] 0.9497608"
      ]
     },
     "metadata": {},
     "output_type": "display_data"
    }
   ],
   "source": [
    "# Reduced model based on AIC\n",
    "svm_red_model = svm(factor(Survived) ~ Pclass + Sex + Age + Fare + Title + FsizeD, \n",
    "                        data = train[ ,-c(11, 18)], probability = TRUE)\n",
    "# svm_model\n",
    "# Had to remove the cabin and deck variables because it wasn't predicting the rows with the missing values\n",
    "svm_red_predict = predict(svm_red_model, newdata = test[, -c(11, 18)], probability = TRUE)\n",
    "\n",
    "svm_red_accuracy = mean(svm_red_predict == test$Survived)\n",
    "svm_red_accuracy"
   ]
  },
  {
   "cell_type": "code",
   "execution_count": 51,
   "metadata": {},
   "outputs": [
    {
     "data": {
      "text/html": [
       "0.389952153110048"
      ],
      "text/latex": [
       "0.389952153110048"
      ],
      "text/markdown": [
       "0.389952153110048"
      ],
      "text/plain": [
       "[1] 0.3899522"
      ]
     },
     "metadata": {},
     "output_type": "display_data"
    },
    {
     "data": {
      "text/html": [
       "0.901840490797546"
      ],
      "text/latex": [
       "0.901840490797546"
      ],
      "text/markdown": [
       "0.901840490797546"
      ],
      "text/plain": [
       "[1] 0.9018405"
      ]
     },
     "metadata": {},
     "output_type": "display_data"
    },
    {
     "data": {
      "text/html": [
       "0.967105263157895"
      ],
      "text/latex": [
       "0.967105263157895"
      ],
      "text/markdown": [
       "0.967105263157895"
      ],
      "text/plain": [
       "[1] 0.9671053"
      ]
     },
     "metadata": {},
     "output_type": "display_data"
    },
    {
     "data": {
      "text/html": [
       "0.933333333333333"
      ],
      "text/latex": [
       "0.933333333333333"
      ],
      "text/markdown": [
       "0.933333333333333"
      ],
      "text/plain": [
       "[1] 0.9333333"
      ]
     },
     "metadata": {},
     "output_type": "display_data"
    }
   ],
   "source": [
    "svm_red_prop_survived = sum(as.integer(svm_red_predict) - 1) / length(test$Survived)\n",
    "\n",
    "predictions = as.factor(svm_red_predict)\n",
    "y = as.factor(test$Survived)\n",
    "\n",
    "svm_red_precision <- posPredValue(predictions, y, positive=\"1\")\n",
    "svm_red_recall <- sensitivity(predictions, y, positive=\"1\")\n",
    "\n",
    "svm_red_F1 <- (2 * svm_red_precision * svm_red_recall) / (svm_red_precision + svm_red_recall)\n",
    "\n",
    "svm_red_prop_survived\n",
    "svm_red_precision\n",
    "svm_red_recall\n",
    "svm_red_F1\n",
    "\n",
    "svm_red_results = c(\"Reduced Linear SVM\", svm_red_accuracy, svm_red_precision, svm_red_recall, svm_red_F1, svm_red_prop_survived, 1 - svm_red_prop_survived)"
   ]
  },
  {
   "cell_type": "markdown",
   "metadata": {},
   "source": [
    "# K-Nearest Neighbor"
   ]
  },
  {
   "cell_type": "code",
   "execution_count": 52,
   "metadata": {},
   "outputs": [],
   "source": [
    "# set 5 rounds of cross validation\n",
    "trControl = trainControl(method = \"repeatedcv\", repeats = 3)\n",
    "\n",
    "knn_model = train(factor(Survived) ~ Pclass + Sex + Age + \n",
    "                     SibSp + Parch + Fare + Embarked + \n",
    "                     Title + FsizeD + Child + Mother,\n",
    "                     method = \"knn\",\n",
    "                     data = train,\n",
    "                     preProcess = c(\"center\", \"scale\"),\n",
    "                     metric = \"Accuracy\",\n",
    "                     tuneLength = 10)"
   ]
  },
  {
   "cell_type": "code",
   "execution_count": 53,
   "metadata": {},
   "outputs": [
    {
     "data": {
      "text/plain": [
       "k-Nearest Neighbors \n",
       "\n",
       "891 samples\n",
       " 11 predictor\n",
       "  2 classes: '0', '1' \n",
       "\n",
       "Pre-processing: centered (17), scaled (17) \n",
       "Resampling: Bootstrapped (25 reps) \n",
       "Summary of sample sizes: 891, 891, 891, 891, 891, 891, ... \n",
       "Resampling results across tuning parameters:\n",
       "\n",
       "  k   Accuracy   Kappa    \n",
       "   5  0.7953647  0.5666089\n",
       "   7  0.8047691  0.5849498\n",
       "   9  0.8072740  0.5897875\n",
       "  11  0.8105537  0.5967616\n",
       "  13  0.8108234  0.5970836\n",
       "  15  0.8131179  0.6021646\n",
       "  17  0.8116273  0.5989416\n",
       "  19  0.8131380  0.6022988\n",
       "  21  0.8140254  0.6030239\n",
       "  23  0.8157869  0.6062677\n",
       "\n",
       "Accuracy was used to select the optimal model using the largest value.\n",
       "The final value used for the model was k = 23."
      ]
     },
     "metadata": {},
     "output_type": "display_data"
    },
    {
     "data": {},
     "metadata": {},
     "output_type": "display_data"
    },
    {
     "data": {
      "image/png": "[encoded data removed]",
      "text/plain": [
       "plot without title"
      ]
     },
     "metadata": {},
     "output_type": "display_data"
    }
   ],
   "source": [
    "knn_model\n",
    "plot(knn_model)"
   ]
  },
  {
   "cell_type": "code",
   "execution_count": 54,
   "metadata": {},
   "outputs": [
    {
     "data": {
      "text/html": [
       "0.909090909090909"
      ],
      "text/latex": [
       "0.909090909090909"
      ],
      "text/markdown": [
       "0.909090909090909"
      ],
      "text/plain": [
       "[1] 0.9090909"
      ]
     },
     "metadata": {},
     "output_type": "display_data"
    }
   ],
   "source": [
    "knn_predict = predict(knn_model, test)\n",
    "# confusionMatrix(knn_predicts, test$Survived)\n",
    "knn_accuracy = mean(knn_predict == test$Survived)\n",
    "knn_accuracy"
   ]
  },
  {
   "cell_type": "code",
   "execution_count": 55,
   "metadata": {},
   "outputs": [
    {
     "data": {
      "text/html": [
       "0.358851674641148"
      ],
      "text/latex": [
       "0.358851674641148"
      ],
      "text/markdown": [
       "0.358851674641148"
      ],
      "text/plain": [
       "[1] 0.3588517"
      ]
     },
     "metadata": {},
     "output_type": "display_data"
    },
    {
     "data": {
      "text/html": [
       "0.88"
      ],
      "text/latex": [
       "0.88"
      ],
      "text/markdown": [
       "0.88"
      ],
      "text/plain": [
       "[1] 0.88"
      ]
     },
     "metadata": {},
     "output_type": "display_data"
    },
    {
     "data": {
      "text/html": [
       "0.868421052631579"
      ],
      "text/latex": [
       "0.868421052631579"
      ],
      "text/markdown": [
       "0.868421052631579"
      ],
      "text/plain": [
       "[1] 0.8684211"
      ]
     },
     "metadata": {},
     "output_type": "display_data"
    },
    {
     "data": {
      "text/html": [
       "0.874172185430464"
      ],
      "text/latex": [
       "0.874172185430464"
      ],
      "text/markdown": [
       "0.874172185430464"
      ],
      "text/plain": [
       "[1] 0.8741722"
      ]
     },
     "metadata": {},
     "output_type": "display_data"
    }
   ],
   "source": [
    "knn_prop_survived = sum(as.integer(knn_predict) - 1) / length(test$Survived)\n",
    "\n",
    "predictions = as.factor(knn_predict)\n",
    "y = as.factor(test$Survived)\n",
    "\n",
    "knn_precision <- posPredValue(predictions, y, positive=\"1\")\n",
    "knn_recall <- sensitivity(predictions, y, positive=\"1\")\n",
    "\n",
    "knn_F1 <- (2 * knn_precision * knn_recall) / (knn_precision + knn_recall)\n",
    "\n",
    "knn_prop_survived\n",
    "knn_precision\n",
    "knn_recall\n",
    "knn_F1\n",
    "\n",
    "knn_results = c(\"KNN\", knn_accuracy, knn_precision, knn_recall, knn_F1, knn_prop_survived, 1 - knn_prop_survived)"
   ]
  },
  {
   "cell_type": "code",
   "execution_count": 56,
   "metadata": {
    "scrolled": false
   },
   "outputs": [
    {
     "data": {
      "text/plain": [
       "k-Nearest Neighbors \n",
       "\n",
       "891 samples\n",
       "  6 predictor\n",
       "  2 classes: '0', '1' \n",
       "\n",
       "Pre-processing: centered (11), scaled (11) \n",
       "Resampling: Bootstrapped (25 reps) \n",
       "Summary of sample sizes: 891, 891, 891, 891, 891, 891, ... \n",
       "Resampling results across tuning parameters:\n",
       "\n",
       "  k   Accuracy   Kappa    \n",
       "   5  0.8027184  0.5790163\n",
       "   7  0.8106489  0.5923319\n",
       "   9  0.8147932  0.6000310\n",
       "  11  0.8172287  0.6037176\n",
       "  13  0.8125190  0.5928456\n",
       "  15  0.8053988  0.5762100\n",
       "  17  0.8028183  0.5701848\n",
       "  19  0.7996964  0.5637740\n",
       "  21  0.8010044  0.5665344\n",
       "  23  0.7979411  0.5579745\n",
       "\n",
       "Accuracy was used to select the optimal model using the largest value.\n",
       "The final value used for the model was k = 11."
      ]
     },
     "metadata": {},
     "output_type": "display_data"
    },
    {
     "data": {},
     "metadata": {},
     "output_type": "display_data"
    },
    {
     "data": {
      "text/html": [
       "0.866028708133971"
      ],
      "text/latex": [
       "0.866028708133971"
      ],
      "text/markdown": [
       "0.866028708133971"
      ],
      "text/plain": [
       "[1] 0.8660287"
      ]
     },
     "metadata": {},
     "output_type": "display_data"
    },
    {
     "data": {
      "image/png": "[encoded data removed]",
      "text/plain": [
       "plot without title"
      ]
     },
     "metadata": {},
     "output_type": "display_data"
    }
   ],
   "source": [
    "# Repeat with reduced model\n",
    "# set 5 rounds of cross validation\n",
    "trControl = trainControl(method = \"repeatedcv\", repeats = 3)\n",
    "\n",
    "knn_red_model = train(factor(Survived) ~ Pclass + Sex + Age + Fare + Title + FsizeD,\n",
    "                     method = \"knn\",\n",
    "                     data = train,\n",
    "                     preProcess = c(\"center\", \"scale\"),\n",
    "                     metric = \"Accuracy\",\n",
    "                     tuneLength = 10)\n",
    "knn_red_model\n",
    "plot(knn_red_model)\n",
    "\n",
    "knn_red_predict = predict(knn_red_model, test)\n",
    "knn_red_accuracy = mean(knn_red_predict == test$Survived)\n",
    "knn_red_accuracy"
   ]
  },
  {
   "cell_type": "code",
   "execution_count": 57,
   "metadata": {},
   "outputs": [
    {
     "data": {
      "text/html": [
       "0.382775119617225"
      ],
      "text/latex": [
       "0.382775119617225"
      ],
      "text/markdown": [
       "0.382775119617225"
      ],
      "text/plain": [
       "[1] 0.3827751"
      ]
     },
     "metadata": {},
     "output_type": "display_data"
    },
    {
     "data": {
      "text/html": [
       "0.8"
      ],
      "text/latex": [
       "0.8"
      ],
      "text/markdown": [
       "0.8"
      ],
      "text/plain": [
       "[1] 0.8"
      ]
     },
     "metadata": {},
     "output_type": "display_data"
    },
    {
     "data": {
      "text/html": [
       "0.842105263157895"
      ],
      "text/latex": [
       "0.842105263157895"
      ],
      "text/markdown": [
       "0.842105263157895"
      ],
      "text/plain": [
       "[1] 0.8421053"
      ]
     },
     "metadata": {},
     "output_type": "display_data"
    },
    {
     "data": {
      "text/html": [
       "0.82051282051282"
      ],
      "text/latex": [
       "0.82051282051282"
      ],
      "text/markdown": [
       "0.82051282051282"
      ],
      "text/plain": [
       "[1] 0.8205128"
      ]
     },
     "metadata": {},
     "output_type": "display_data"
    }
   ],
   "source": [
    "knn_red_prop_survived = sum(as.integer(knn_red_predict) - 1) / length(test$Survived)\n",
    "\n",
    "predictions = as.factor(knn_red_predict)\n",
    "y = as.factor(test$Survived)\n",
    "\n",
    "knn_red_precision <- posPredValue(predictions, y, positive=\"1\")\n",
    "knn_red_recall <- sensitivity(predictions, y, positive=\"1\")\n",
    "\n",
    "knn_red_F1 <- (2 * knn_red_precision * knn_red_recall) / (knn_red_precision + knn_red_recall)\n",
    "\n",
    "knn_red_prop_survived\n",
    "knn_red_precision\n",
    "knn_red_recall\n",
    "knn_red_F1\n",
    "\n",
    "knn_red_results = c(\"Reduced KNN\", knn_red_accuracy, knn_red_precision, knn_red_recall, knn_red_F1, knn_red_prop_survived, 1 - knn_red_prop_survived)"
   ]
  },
  {
   "cell_type": "markdown",
   "metadata": {},
   "source": [
    "# Neural Net"
   ]
  },
  {
   "cell_type": "code",
   "execution_count": 58,
   "metadata": {
    "scrolled": false
   },
   "outputs": [
    {
     "name": "stdout",
     "output_type": "stream",
     "text": [
      "# weights:  58\n",
      "initial  value 221.886169 \n",
      "iter  10 value 155.112793\n",
      "iter  20 value 117.459352\n",
      "iter  30 value 110.444890\n",
      "iter  40 value 108.559629\n",
      "iter  50 value 108.044428\n",
      "iter  60 value 107.855071\n",
      "iter  70 value 103.218186\n",
      "iter  80 value 102.832158\n",
      "iter  90 value 102.767553\n",
      "iter 100 value 102.754710\n",
      "final  value 102.754710 \n",
      "stopped after 100 iterations\n"
     ]
    },
    {
     "data": {
      "text/plain": [
       "a 17-3-1 network with 58 weights\n",
       "inputs: Pclass2 Pclass3 Sexmale Age SibSp Parch Fare EmbarkedQ EmbarkedS TitleMiss TitleMr TitleMrs TitleRare_Title FsizeDsingleton FsizeDsmall ChildChild MotherNot_Mother \n",
       "output(s): Survived \n",
       "options were -"
      ]
     },
     "metadata": {},
     "output_type": "display_data"
    }
   ],
   "source": [
    "nn = nnet(Survived ~ Pclass + Sex + Age + SibSp + Parch + Fare + Embarked + Title + FsizeD + Child + Mother, \n",
    "          data = train, \n",
    "          size = 3)\n",
    "nn"
   ]
  },
  {
   "cell_type": "code",
   "execution_count": 59,
   "metadata": {},
   "outputs": [
    {
     "data": {
      "text/html": [
       "0.88755980861244"
      ],
      "text/latex": [
       "0.88755980861244"
      ],
      "text/markdown": [
       "0.88755980861244"
      ],
      "text/plain": [
       "[1] 0.8875598"
      ]
     },
     "metadata": {},
     "output_type": "display_data"
    }
   ],
   "source": [
    "nn_probs = predict(nn, newdata = test, type = \"raw\")\n",
    "nn_predict = ifelse(nn_probs > 0.5, 1, 0)\n",
    "\n",
    "nn_accuracy = mean(nn_predict == test$Survived)\n",
    "nn_accuracy"
   ]
  },
  {
   "cell_type": "code",
   "execution_count": 60,
   "metadata": {},
   "outputs": [
    {
     "data": {
      "text/html": [
       "0.356459330143541"
      ],
      "text/latex": [
       "0.356459330143541"
      ],
      "text/markdown": [
       "0.356459330143541"
      ],
      "text/plain": [
       "[1] 0.3564593"
      ]
     },
     "metadata": {},
     "output_type": "display_data"
    },
    {
     "data": {
      "text/html": [
       "0.85234899328859"
      ],
      "text/latex": [
       "0.85234899328859"
      ],
      "text/markdown": [
       "0.85234899328859"
      ],
      "text/plain": [
       "[1] 0.852349"
      ]
     },
     "metadata": {},
     "output_type": "display_data"
    },
    {
     "data": {
      "text/html": [
       "0.835526315789474"
      ],
      "text/latex": [
       "0.835526315789474"
      ],
      "text/markdown": [
       "0.835526315789474"
      ],
      "text/plain": [
       "[1] 0.8355263"
      ]
     },
     "metadata": {},
     "output_type": "display_data"
    },
    {
     "data": {
      "text/html": [
       "0.843853820598007"
      ],
      "text/latex": [
       "0.843853820598007"
      ],
      "text/markdown": [
       "0.843853820598007"
      ],
      "text/plain": [
       "[1] 0.8438538"
      ]
     },
     "metadata": {},
     "output_type": "display_data"
    }
   ],
   "source": [
    "nn_prop_survived = sum(as.integer(nn_predict)) / length(test$Survived)\n",
    "\n",
    "predictions = as.factor(nn_predict)\n",
    "y = as.factor(test$Survived)\n",
    "\n",
    "nn_precision <- posPredValue(predictions, y, positive=\"1\")\n",
    "nn_recall <- sensitivity(predictions, y, positive=\"1\")\n",
    "\n",
    "nn_F1 <- (2 * nn_precision * nn_recall) / (nn_precision + nn_recall)\n",
    "\n",
    "nn_prop_survived\n",
    "nn_precision\n",
    "nn_recall\n",
    "nn_F1\n",
    "\n",
    "nn_results = c(\"Neural Net\", nn_accuracy, nn_precision, nn_recall, nn_F1, nn_prop_survived, 1 - nn_prop_survived)"
   ]
  },
  {
   "cell_type": "code",
   "execution_count": 61,
   "metadata": {},
   "outputs": [
    {
     "name": "stdout",
     "output_type": "stream",
     "text": [
      "# weights:  40\n",
      "initial  value 224.871768 \n",
      "iter  10 value 158.844068\n",
      "iter  20 value 131.210619\n",
      "iter  30 value 116.133578\n",
      "iter  40 value 112.969894\n",
      "iter  50 value 111.846118\n",
      "iter  60 value 111.619177\n",
      "iter  70 value 111.491310\n",
      "iter  80 value 111.421229\n",
      "iter  90 value 111.368063\n",
      "iter 100 value 111.263512\n",
      "final  value 111.263512 \n",
      "stopped after 100 iterations\n"
     ]
    },
    {
     "data": {
      "text/plain": [
       "a 11-3-1 network with 40 weights\n",
       "inputs: Pclass2 Pclass3 Sexmale Age Fare TitleMiss TitleMr TitleMrs TitleRare_Title FsizeDsingleton FsizeDsmall \n",
       "output(s): Survived \n",
       "options were -"
      ]
     },
     "metadata": {},
     "output_type": "display_data"
    },
    {
     "data": {
      "text/html": [
       "0.923444976076555"
      ],
      "text/latex": [
       "0.923444976076555"
      ],
      "text/markdown": [
       "0.923444976076555"
      ],
      "text/plain": [
       "[1] 0.923445"
      ]
     },
     "metadata": {},
     "output_type": "display_data"
    }
   ],
   "source": [
    "# Reduced model\n",
    "nn_red = nnet(Survived ~ Pclass + Sex + Age + Fare + Title + FsizeD, \n",
    "          data = train, \n",
    "          size = 3)\n",
    "nn_red\n",
    "\n",
    "nn_red_probs = predict(nn_red, newdata = test, type = \"raw\")\n",
    "nn_red_predict = ifelse(nn_red_probs > 0.5, 1, 0)\n",
    "\n",
    "nn_red_accuracy = mean(nn_red_predict == test$Survived)\n",
    "nn_red_accuracy"
   ]
  },
  {
   "cell_type": "code",
   "execution_count": 62,
   "metadata": {},
   "outputs": [
    {
     "data": {
      "text/html": [
       "0.416267942583732"
      ],
      "text/latex": [
       "0.416267942583732"
      ],
      "text/markdown": [
       "0.416267942583732"
      ],
      "text/plain": [
       "[1] 0.4162679"
      ]
     },
     "metadata": {},
     "output_type": "display_data"
    },
    {
     "data": {
      "text/html": [
       "0.844827586206897"
      ],
      "text/latex": [
       "0.844827586206897"
      ],
      "text/markdown": [
       "0.844827586206897"
      ],
      "text/plain": [
       "[1] 0.8448276"
      ]
     },
     "metadata": {},
     "output_type": "display_data"
    },
    {
     "data": {
      "text/html": [
       "0.967105263157895"
      ],
      "text/latex": [
       "0.967105263157895"
      ],
      "text/markdown": [
       "0.967105263157895"
      ],
      "text/plain": [
       "[1] 0.9671053"
      ]
     },
     "metadata": {},
     "output_type": "display_data"
    },
    {
     "data": {
      "text/html": [
       "0.901840490797546"
      ],
      "text/latex": [
       "0.901840490797546"
      ],
      "text/markdown": [
       "0.901840490797546"
      ],
      "text/plain": [
       "[1] 0.9018405"
      ]
     },
     "metadata": {},
     "output_type": "display_data"
    }
   ],
   "source": [
    "nn_red_prop_survived = sum(as.integer(nn_red_predict)) / length(test$Survived)\n",
    "\n",
    "predictions = as.factor(nn_red_predict)\n",
    "y = as.factor(test$Survived)\n",
    "\n",
    "nn_red_precision <- posPredValue(predictions, y, positive=\"1\")\n",
    "nn_red_recall <- sensitivity(predictions, y, positive=\"1\")\n",
    "\n",
    "nn_red_F1 <- (2 * nn_red_precision * nn_red_recall) / (nn_red_precision + nn_red_recall)\n",
    "\n",
    "nn_red_prop_survived\n",
    "nn_red_precision\n",
    "nn_red_recall\n",
    "nn_red_F1\n",
    "\n",
    "nn_red_results = c(\"Reduced Neural Net\", nn_red_accuracy, nn_red_precision, nn_red_recall, nn_red_F1, nn_red_prop_survived, 1 - nn_red_prop_survived)"
   ]
  },
  {
   "cell_type": "markdown",
   "metadata": {},
   "source": [
    "# Results"
   ]
  },
  {
   "cell_type": "code",
   "execution_count": 63,
   "metadata": {},
   "outputs": [
    {
     "data": {
      "text/html": [
       "<table>\n",
       "<tbody>\n",
       "\t<tr><td>0</td><td>0</td><td>0</td></tr>\n",
       "\t<tr><td>0</td><td>0</td><td>0</td></tr>\n",
       "\t<tr><td>0</td><td>0</td><td>0</td></tr>\n",
       "\t<tr><td>0</td><td>0</td><td>0</td></tr>\n",
       "\t<tr><td>0</td><td>0</td><td>0</td></tr>\n",
       "</tbody>\n",
       "</table>\n"
      ],
      "text/latex": [
       "\\begin{tabular}{lll}\n",
       "\t 0 & 0 & 0\\\\\n",
       "\t 0 & 0 & 0\\\\\n",
       "\t 0 & 0 & 0\\\\\n",
       "\t 0 & 0 & 0\\\\\n",
       "\t 0 & 0 & 0\\\\\n",
       "\\end{tabular}\n"
      ],
      "text/markdown": [
       "\n",
       "| 0 | 0 | 0 | \n",
       "| 0 | 0 | 0 | \n",
       "| 0 | 0 | 0 | \n",
       "| 0 | 0 | 0 | \n",
       "| 0 | 0 | 0 | \n",
       "\n",
       "\n"
      ],
      "text/plain": [
       "     [,1] [,2] [,3]\n",
       "[1,] 0    0    0   \n",
       "[2,] 0    0    0   \n",
       "[3,] 0    0    0   \n",
       "[4,] 0    0    0   \n",
       "[5,] 0    0    0   "
      ]
     },
     "metadata": {},
     "output_type": "display_data"
    }
   ],
   "source": [
    "matrix(0, ncol = 3, nrow = 5)"
   ]
  },
  {
   "cell_type": "code",
   "execution_count": 64,
   "metadata": {},
   "outputs": [],
   "source": [
    "results = data.frame(matrix(0, nrow = 14, ncol = 7))\n",
    "results[1, ] = glm_results\n",
    "results[2, ] = AIC_results\n",
    "results[3, ] = GAM_results\n",
    "results[4, ] = GAM_AIC_results\n",
    "results[5, ] = nb_results\n",
    "results[6, ] = nb_red_results\n",
    "results[7, ] = knn_results\n",
    "results[8, ] = knn_red_results\n",
    "results[9, ] = rf_results\n",
    "results[10, ] = rf_red_results\n",
    "results[11, ] = svm_results\n",
    "results[12, ] = svm_red_results\n",
    "results[13, ] = nn_results\n",
    "results[14, ] = nn_red_results\n",
    "\n",
    "colnames(results) = c(\"Model\", \"% Accuracy\", \"Precision\", \"Recall\", \"F1\", \"% Survived\", \"% Died\")"
   ]
  },
  {
   "cell_type": "code",
   "execution_count": 65,
   "metadata": {},
   "outputs": [
    {
     "data": {
      "text/html": [
       "<table>\n",
       "<thead><tr><th scope=col>Model</th><th scope=col>% Accuracy</th><th scope=col>Precision</th><th scope=col>Recall</th><th scope=col>F1</th><th scope=col>% Survived</th><th scope=col>% Died</th></tr></thead>\n",
       "<tbody>\n",
       "\t<tr><td>GLM                  </td><td>0.930622009569378    </td><td>0.859649122807018    </td><td>0.967105263157895    </td><td>0.910216718266254    </td><td>0.409090909090909    </td><td>0.590909090909091    </td></tr>\n",
       "\t<tr><td>Reduced GLM          </td><td>0.942583732057416    </td><td>0.885542168674699    </td><td>0.967105263157895    </td><td>0.924528301886793    </td><td>0.397129186602871    </td><td>0.602870813397129    </td></tr>\n",
       "\t<tr><td>GAM                  </td><td>0.952153110047847    </td><td>0.902439024390244    </td><td>0.973684210526316    </td><td>0.936708860759494    </td><td>0.392344497607655    </td><td>0.607655502392344    </td></tr>\n",
       "\t<tr><td>Reduced GAM          </td><td>0.949760765550239    </td><td>0.901840490797546    </td><td>0.967105263157895    </td><td>0.933333333333333    </td><td>0.389952153110048    </td><td>0.610047846889952    </td></tr>\n",
       "\t<tr><td>Naive Bayes          </td><td>0.935406698564593    </td><td>0.865497076023392    </td><td>0.973684210526316    </td><td>0.91640866873065     </td><td>0.409090909090909    </td><td>0.590909090909091    </td></tr>\n",
       "\t<tr><td>Reduced Naive Bayes  </td><td>0.95933014354067     </td><td>0.904191616766467    </td><td>0.993421052631579    </td><td>0.946708463949843    </td><td>0.399521531100478    </td><td>0.600478468899522    </td></tr>\n",
       "\t<tr><td>KNN                  </td><td>0.909090909090909    </td><td>0.88                 </td><td>0.868421052631579    </td><td>0.874172185430464    </td><td>0.358851674641148    </td><td>0.641148325358852    </td></tr>\n",
       "\t<tr><td>Reduced KNN          </td><td>0.866028708133971    </td><td>0.8                  </td><td>0.842105263157895    </td><td>0.82051282051282     </td><td>0.382775119617225    </td><td>0.617224880382775    </td></tr>\n",
       "\t<tr><td>Random Forest        </td><td>0.88755980861244     </td><td>0.843137254901961    </td><td>0.848684210526316    </td><td>0.845901639344262    </td><td>0.366028708133971    </td><td>0.633971291866029    </td></tr>\n",
       "\t<tr><td>Reduced Random Forest</td><td>0.913875598086124    </td><td>0.867088607594937    </td><td>0.901315789473684    </td><td>0.883870967741936    </td><td>0.37799043062201     </td><td>0.62200956937799     </td></tr>\n",
       "\t<tr><td>Linear SVM           </td><td>0.947368421052632    </td><td>0.901234567901235    </td><td>0.960526315789474    </td><td>0.929936305732484    </td><td>0.38755980861244     </td><td>0.61244019138756     </td></tr>\n",
       "\t<tr><td>Reduced Linear SVM   </td><td>0.949760765550239    </td><td>0.901840490797546    </td><td>0.967105263157895    </td><td>0.933333333333333    </td><td>0.389952153110048    </td><td>0.610047846889952    </td></tr>\n",
       "\t<tr><td>Neural Net           </td><td>0.88755980861244     </td><td>0.85234899328859     </td><td>0.835526315789474    </td><td>0.843853820598007    </td><td>0.356459330143541    </td><td>0.643540669856459    </td></tr>\n",
       "\t<tr><td>Reduced Neural Net   </td><td>0.923444976076555    </td><td>0.844827586206897    </td><td>0.967105263157895    </td><td>0.901840490797546    </td><td>0.416267942583732    </td><td>0.583732057416268    </td></tr>\n",
       "</tbody>\n",
       "</table>\n"
      ],
      "text/latex": [
       "\\begin{tabular}{r|lllllll}\n",
       " Model & \\% Accuracy & Precision & Recall & F1 & \\% Survived & \\% Died\\\\\n",
       "\\hline\n",
       "\t GLM                   & 0.930622009569378     & 0.859649122807018     & 0.967105263157895     & 0.910216718266254     & 0.409090909090909     & 0.590909090909091    \\\\\n",
       "\t Reduced GLM           & 0.942583732057416     & 0.885542168674699     & 0.967105263157895     & 0.924528301886793     & 0.397129186602871     & 0.602870813397129    \\\\\n",
       "\t GAM                   & 0.952153110047847     & 0.902439024390244     & 0.973684210526316     & 0.936708860759494     & 0.392344497607655     & 0.607655502392344    \\\\\n",
       "\t Reduced GAM           & 0.949760765550239     & 0.901840490797546     & 0.967105263157895     & 0.933333333333333     & 0.389952153110048     & 0.610047846889952    \\\\\n",
       "\t Naive Bayes           & 0.935406698564593     & 0.865497076023392     & 0.973684210526316     & 0.91640866873065      & 0.409090909090909     & 0.590909090909091    \\\\\n",
       "\t Reduced Naive Bayes   & 0.95933014354067      & 0.904191616766467     & 0.993421052631579     & 0.946708463949843     & 0.399521531100478     & 0.600478468899522    \\\\\n",
       "\t KNN                   & 0.909090909090909     & 0.88                  & 0.868421052631579     & 0.874172185430464     & 0.358851674641148     & 0.641148325358852    \\\\\n",
       "\t Reduced KNN           & 0.866028708133971     & 0.8                   & 0.842105263157895     & 0.82051282051282      & 0.382775119617225     & 0.617224880382775    \\\\\n",
       "\t Random Forest         & 0.88755980861244      & 0.843137254901961     & 0.848684210526316     & 0.845901639344262     & 0.366028708133971     & 0.633971291866029    \\\\\n",
       "\t Reduced Random Forest & 0.913875598086124     & 0.867088607594937     & 0.901315789473684     & 0.883870967741936     & 0.37799043062201      & 0.62200956937799     \\\\\n",
       "\t Linear SVM            & 0.947368421052632     & 0.901234567901235     & 0.960526315789474     & 0.929936305732484     & 0.38755980861244      & 0.61244019138756     \\\\\n",
       "\t Reduced Linear SVM    & 0.949760765550239     & 0.901840490797546     & 0.967105263157895     & 0.933333333333333     & 0.389952153110048     & 0.610047846889952    \\\\\n",
       "\t Neural Net            & 0.88755980861244      & 0.85234899328859      & 0.835526315789474     & 0.843853820598007     & 0.356459330143541     & 0.643540669856459    \\\\\n",
       "\t Reduced Neural Net    & 0.923444976076555     & 0.844827586206897     & 0.967105263157895     & 0.901840490797546     & 0.416267942583732     & 0.583732057416268    \\\\\n",
       "\\end{tabular}\n"
      ],
      "text/markdown": [
       "\n",
       "Model | % Accuracy | Precision | Recall | F1 | % Survived | % Died | \n",
       "|---|---|---|---|---|---|---|---|---|---|---|---|---|---|\n",
       "| GLM                   | 0.930622009569378     | 0.859649122807018     | 0.967105263157895     | 0.910216718266254     | 0.409090909090909     | 0.590909090909091     | \n",
       "| Reduced GLM           | 0.942583732057416     | 0.885542168674699     | 0.967105263157895     | 0.924528301886793     | 0.397129186602871     | 0.602870813397129     | \n",
       "| GAM                   | 0.952153110047847     | 0.902439024390244     | 0.973684210526316     | 0.936708860759494     | 0.392344497607655     | 0.607655502392344     | \n",
       "| Reduced GAM           | 0.949760765550239     | 0.901840490797546     | 0.967105263157895     | 0.933333333333333     | 0.389952153110048     | 0.610047846889952     | \n",
       "| Naive Bayes           | 0.935406698564593     | 0.865497076023392     | 0.973684210526316     | 0.91640866873065      | 0.409090909090909     | 0.590909090909091     | \n",
       "| Reduced Naive Bayes   | 0.95933014354067      | 0.904191616766467     | 0.993421052631579     | 0.946708463949843     | 0.399521531100478     | 0.600478468899522     | \n",
       "| KNN                   | 0.909090909090909     | 0.88                  | 0.868421052631579     | 0.874172185430464     | 0.358851674641148     | 0.641148325358852     | \n",
       "| Reduced KNN           | 0.866028708133971     | 0.8                   | 0.842105263157895     | 0.82051282051282      | 0.382775119617225     | 0.617224880382775     | \n",
       "| Random Forest         | 0.88755980861244      | 0.843137254901961     | 0.848684210526316     | 0.845901639344262     | 0.366028708133971     | 0.633971291866029     | \n",
       "| Reduced Random Forest | 0.913875598086124     | 0.867088607594937     | 0.901315789473684     | 0.883870967741936     | 0.37799043062201      | 0.62200956937799      | \n",
       "| Linear SVM            | 0.947368421052632     | 0.901234567901235     | 0.960526315789474     | 0.929936305732484     | 0.38755980861244      | 0.61244019138756      | \n",
       "| Reduced Linear SVM    | 0.949760765550239     | 0.901840490797546     | 0.967105263157895     | 0.933333333333333     | 0.389952153110048     | 0.610047846889952     | \n",
       "| Neural Net            | 0.88755980861244      | 0.85234899328859      | 0.835526315789474     | 0.843853820598007     | 0.356459330143541     | 0.643540669856459     | \n",
       "| Reduced Neural Net    | 0.923444976076555     | 0.844827586206897     | 0.967105263157895     | 0.901840490797546     | 0.416267942583732     | 0.583732057416268     | \n",
       "\n",
       "\n"
      ],
      "text/plain": [
       "   Model                 % Accuracy        Precision         Recall           \n",
       "1  GLM                   0.930622009569378 0.859649122807018 0.967105263157895\n",
       "2  Reduced GLM           0.942583732057416 0.885542168674699 0.967105263157895\n",
       "3  GAM                   0.952153110047847 0.902439024390244 0.973684210526316\n",
       "4  Reduced GAM           0.949760765550239 0.901840490797546 0.967105263157895\n",
       "5  Naive Bayes           0.935406698564593 0.865497076023392 0.973684210526316\n",
       "6  Reduced Naive Bayes   0.95933014354067  0.904191616766467 0.993421052631579\n",
       "7  KNN                   0.909090909090909 0.88              0.868421052631579\n",
       "8  Reduced KNN           0.866028708133971 0.8               0.842105263157895\n",
       "9  Random Forest         0.88755980861244  0.843137254901961 0.848684210526316\n",
       "10 Reduced Random Forest 0.913875598086124 0.867088607594937 0.901315789473684\n",
       "11 Linear SVM            0.947368421052632 0.901234567901235 0.960526315789474\n",
       "12 Reduced Linear SVM    0.949760765550239 0.901840490797546 0.967105263157895\n",
       "13 Neural Net            0.88755980861244  0.85234899328859  0.835526315789474\n",
       "14 Reduced Neural Net    0.923444976076555 0.844827586206897 0.967105263157895\n",
       "   F1                % Survived        % Died           \n",
       "1  0.910216718266254 0.409090909090909 0.590909090909091\n",
       "2  0.924528301886793 0.397129186602871 0.602870813397129\n",
       "3  0.936708860759494 0.392344497607655 0.607655502392344\n",
       "4  0.933333333333333 0.389952153110048 0.610047846889952\n",
       "5  0.91640866873065  0.409090909090909 0.590909090909091\n",
       "6  0.946708463949843 0.399521531100478 0.600478468899522\n",
       "7  0.874172185430464 0.358851674641148 0.641148325358852\n",
       "8  0.82051282051282  0.382775119617225 0.617224880382775\n",
       "9  0.845901639344262 0.366028708133971 0.633971291866029\n",
       "10 0.883870967741936 0.37799043062201  0.62200956937799 \n",
       "11 0.929936305732484 0.38755980861244  0.61244019138756 \n",
       "12 0.933333333333333 0.389952153110048 0.610047846889952\n",
       "13 0.843853820598007 0.356459330143541 0.643540669856459\n",
       "14 0.901840490797546 0.416267942583732 0.583732057416268"
      ]
     },
     "metadata": {},
     "output_type": "display_data"
    }
   ],
   "source": [
    "results"
   ]
  },
  {
   "cell_type": "code",
   "execution_count": 66,
   "metadata": {},
   "outputs": [
    {
     "data": {
      "text/html": [
       "<table>\n",
       "<thead><tr><th scope=col>Model</th><th scope=col>% Accuracy</th><th scope=col>Precision</th><th scope=col>Recall</th><th scope=col>F1</th><th scope=col>% Survived</th><th scope=col>% Died</th></tr></thead>\n",
       "<tbody>\n",
       "\t<tr><td>GLM                  </td><td>0.9306               </td><td>0.8596               </td><td>0.9671               </td><td>0.9102               </td><td>0.4091               </td><td>0.5909               </td></tr>\n",
       "\t<tr><td>Reduced GLM          </td><td>0.9426               </td><td>0.8855               </td><td>0.9671               </td><td>0.9245               </td><td>0.3971               </td><td>0.6029               </td></tr>\n",
       "\t<tr><td>GAM                  </td><td>0.9522               </td><td>0.9024               </td><td>0.9737               </td><td>0.9367               </td><td>0.3923               </td><td>0.6077               </td></tr>\n",
       "\t<tr><td>Reduced GAM          </td><td>0.9498               </td><td>0.9018               </td><td>0.9671               </td><td>0.9333               </td><td>0.3900               </td><td>0.6100               </td></tr>\n",
       "\t<tr><td>Naive Bayes          </td><td>0.9354               </td><td>0.8655               </td><td>0.9737               </td><td>0.9164               </td><td>0.4091               </td><td>0.5909               </td></tr>\n",
       "\t<tr><td>Reduced Naive Bayes  </td><td>0.9593               </td><td>0.9042               </td><td>0.9934               </td><td>0.9467               </td><td>0.3995               </td><td>0.6005               </td></tr>\n",
       "\t<tr><td>KNN                  </td><td>0.9091               </td><td>0.8800               </td><td>0.8684               </td><td>0.8742               </td><td>0.3589               </td><td>0.6411               </td></tr>\n",
       "\t<tr><td>Reduced KNN          </td><td>0.8660               </td><td>0.8000               </td><td>0.8421               </td><td>0.8205               </td><td>0.3828               </td><td>0.6172               </td></tr>\n",
       "\t<tr><td>Random Forest        </td><td>0.8876               </td><td>0.8431               </td><td>0.8487               </td><td>0.8459               </td><td>0.3660               </td><td>0.6340               </td></tr>\n",
       "\t<tr><td>Reduced Random Forest</td><td>0.9139               </td><td>0.8671               </td><td>0.9013               </td><td>0.8839               </td><td>0.3780               </td><td>0.6220               </td></tr>\n",
       "\t<tr><td>Linear SVM           </td><td>0.9474               </td><td>0.9012               </td><td>0.9605               </td><td>0.9299               </td><td>0.3876               </td><td>0.6124               </td></tr>\n",
       "\t<tr><td>Reduced Linear SVM   </td><td>0.9498               </td><td>0.9018               </td><td>0.9671               </td><td>0.9333               </td><td>0.3900               </td><td>0.6100               </td></tr>\n",
       "\t<tr><td>Neural Net           </td><td>0.8876               </td><td>0.8523               </td><td>0.8355               </td><td>0.8439               </td><td>0.3565               </td><td>0.6435               </td></tr>\n",
       "\t<tr><td>Reduced Neural Net   </td><td>0.9234               </td><td>0.8448               </td><td>0.9671               </td><td>0.9018               </td><td>0.4163               </td><td>0.5837               </td></tr>\n",
       "</tbody>\n",
       "</table>\n"
      ],
      "text/latex": [
       "\\begin{tabular}{r|lllllll}\n",
       " Model & \\% Accuracy & Precision & Recall & F1 & \\% Survived & \\% Died\\\\\n",
       "\\hline\n",
       "\t GLM                   & 0.9306                & 0.8596                & 0.9671                & 0.9102                & 0.4091                & 0.5909               \\\\\n",
       "\t Reduced GLM           & 0.9426                & 0.8855                & 0.9671                & 0.9245                & 0.3971                & 0.6029               \\\\\n",
       "\t GAM                   & 0.9522                & 0.9024                & 0.9737                & 0.9367                & 0.3923                & 0.6077               \\\\\n",
       "\t Reduced GAM           & 0.9498                & 0.9018                & 0.9671                & 0.9333                & 0.3900                & 0.6100               \\\\\n",
       "\t Naive Bayes           & 0.9354                & 0.8655                & 0.9737                & 0.9164                & 0.4091                & 0.5909               \\\\\n",
       "\t Reduced Naive Bayes   & 0.9593                & 0.9042                & 0.9934                & 0.9467                & 0.3995                & 0.6005               \\\\\n",
       "\t KNN                   & 0.9091                & 0.8800                & 0.8684                & 0.8742                & 0.3589                & 0.6411               \\\\\n",
       "\t Reduced KNN           & 0.8660                & 0.8000                & 0.8421                & 0.8205                & 0.3828                & 0.6172               \\\\\n",
       "\t Random Forest         & 0.8876                & 0.8431                & 0.8487                & 0.8459                & 0.3660                & 0.6340               \\\\\n",
       "\t Reduced Random Forest & 0.9139                & 0.8671                & 0.9013                & 0.8839                & 0.3780                & 0.6220               \\\\\n",
       "\t Linear SVM            & 0.9474                & 0.9012                & 0.9605                & 0.9299                & 0.3876                & 0.6124               \\\\\n",
       "\t Reduced Linear SVM    & 0.9498                & 0.9018                & 0.9671                & 0.9333                & 0.3900                & 0.6100               \\\\\n",
       "\t Neural Net            & 0.8876                & 0.8523                & 0.8355                & 0.8439                & 0.3565                & 0.6435               \\\\\n",
       "\t Reduced Neural Net    & 0.9234                & 0.8448                & 0.9671                & 0.9018                & 0.4163                & 0.5837               \\\\\n",
       "\\end{tabular}\n"
      ],
      "text/markdown": [
       "\n",
       "Model | % Accuracy | Precision | Recall | F1 | % Survived | % Died | \n",
       "|---|---|---|---|---|---|---|---|---|---|---|---|---|---|\n",
       "| GLM                   | 0.9306                | 0.8596                | 0.9671                | 0.9102                | 0.4091                | 0.5909                | \n",
       "| Reduced GLM           | 0.9426                | 0.8855                | 0.9671                | 0.9245                | 0.3971                | 0.6029                | \n",
       "| GAM                   | 0.9522                | 0.9024                | 0.9737                | 0.9367                | 0.3923                | 0.6077                | \n",
       "| Reduced GAM           | 0.9498                | 0.9018                | 0.9671                | 0.9333                | 0.3900                | 0.6100                | \n",
       "| Naive Bayes           | 0.9354                | 0.8655                | 0.9737                | 0.9164                | 0.4091                | 0.5909                | \n",
       "| Reduced Naive Bayes   | 0.9593                | 0.9042                | 0.9934                | 0.9467                | 0.3995                | 0.6005                | \n",
       "| KNN                   | 0.9091                | 0.8800                | 0.8684                | 0.8742                | 0.3589                | 0.6411                | \n",
       "| Reduced KNN           | 0.8660                | 0.8000                | 0.8421                | 0.8205                | 0.3828                | 0.6172                | \n",
       "| Random Forest         | 0.8876                | 0.8431                | 0.8487                | 0.8459                | 0.3660                | 0.6340                | \n",
       "| Reduced Random Forest | 0.9139                | 0.8671                | 0.9013                | 0.8839                | 0.3780                | 0.6220                | \n",
       "| Linear SVM            | 0.9474                | 0.9012                | 0.9605                | 0.9299                | 0.3876                | 0.6124                | \n",
       "| Reduced Linear SVM    | 0.9498                | 0.9018                | 0.9671                | 0.9333                | 0.3900                | 0.6100                | \n",
       "| Neural Net            | 0.8876                | 0.8523                | 0.8355                | 0.8439                | 0.3565                | 0.6435                | \n",
       "| Reduced Neural Net    | 0.9234                | 0.8448                | 0.9671                | 0.9018                | 0.4163                | 0.5837                | \n",
       "\n",
       "\n"
      ],
      "text/plain": [
       "   Model                 % Accuracy Precision Recall F1     % Survived % Died\n",
       "1  GLM                   0.9306     0.8596    0.9671 0.9102 0.4091     0.5909\n",
       "2  Reduced GLM           0.9426     0.8855    0.9671 0.9245 0.3971     0.6029\n",
       "3  GAM                   0.9522     0.9024    0.9737 0.9367 0.3923     0.6077\n",
       "4  Reduced GAM           0.9498     0.9018    0.9671 0.9333 0.3900     0.6100\n",
       "5  Naive Bayes           0.9354     0.8655    0.9737 0.9164 0.4091     0.5909\n",
       "6  Reduced Naive Bayes   0.9593     0.9042    0.9934 0.9467 0.3995     0.6005\n",
       "7  KNN                   0.9091     0.8800    0.8684 0.8742 0.3589     0.6411\n",
       "8  Reduced KNN           0.8660     0.8000    0.8421 0.8205 0.3828     0.6172\n",
       "9  Random Forest         0.8876     0.8431    0.8487 0.8459 0.3660     0.6340\n",
       "10 Reduced Random Forest 0.9139     0.8671    0.9013 0.8839 0.3780     0.6220\n",
       "11 Linear SVM            0.9474     0.9012    0.9605 0.9299 0.3876     0.6124\n",
       "12 Reduced Linear SVM    0.9498     0.9018    0.9671 0.9333 0.3900     0.6100\n",
       "13 Neural Net            0.8876     0.8523    0.8355 0.8439 0.3565     0.6435\n",
       "14 Reduced Neural Net    0.9234     0.8448    0.9671 0.9018 0.4163     0.5837"
      ]
     },
     "metadata": {},
     "output_type": "display_data"
    }
   ],
   "source": [
    "k = apply(results[ , -1], 2, function(x) as.double(x))\n",
    "k = format(round(k, 4), nsmall = 4)\n",
    "\n",
    "l = data.frame(k)\n",
    "l$Model = results$Model\n",
    "l = l[c(7, 1, 2, 3, 4, 5, 6)]\n",
    "colnames(l) = c(\"Model\", \"% Accuracy\", \"Precision\", \"Recall\", \"F1\", \"% Survived\", \"% Died\")\n",
    "l"
   ]
  },
  {
   "cell_type": "code",
   "execution_count": 83,
   "metadata": {
    "scrolled": false
   },
   "outputs": [
    {
     "data": {},
     "metadata": {},
     "output_type": "display_data"
    },
    {
     "data": {
      "image/png": "[encoded data removed]",
      "text/plain": [
       "plot without title"
      ]
     },
     "metadata": {},
     "output_type": "display_data"
    }
   ],
   "source": [
    "confusion_matrix <- as.data.frame(table(nn_red_predict, test$Survived))\n",
    "\n",
    "ggplot(data = confusion_matrix,\n",
    "       mapping = aes(x = nn_red_predict,\n",
    "                     y = Var2)) +\n",
    "  geom_tile(aes(fill = Freq)) +\n",
    "  geom_text(aes(label = sprintf(\"%1.0f\", Freq)), vjust = 1) +\n",
    "  scale_fill_gradient(low = \"white\",\n",
    "                      high = \"dodgerblue4\") + \n",
    "  theme(legend.position = \"none\") + \n",
    "  labs(x = \"Predicted Class\", y = \"Actual Class\", title = \"Reduced Neural Net Confusion Matrix\")"
   ]
  },
  {
   "cell_type": "code",
   "execution_count": 68,
   "metadata": {},
   "outputs": [
    {
     "data": {},
     "metadata": {},
     "output_type": "display_data"
    },
    {
     "data": {
      "image/png": "[encoded data removed]",
      "text/plain": [
       "plot without title"
      ]
     },
     "metadata": {},
     "output_type": "display_data"
    }
   ],
   "source": [
    "plot(knn_model, main = \"KNN Accuracy per Neighbors\")"
   ]
  },
  {
   "cell_type": "code",
   "execution_count": 85,
   "metadata": {},
   "outputs": [
    {
     "data": {
      "text/html": [
       "0.363636363636364"
      ],
      "text/latex": [
       "0.363636363636364"
      ],
      "text/markdown": [
       "0.363636363636364"
      ],
      "text/plain": [
       "[1] 0.3636364"
      ]
     },
     "metadata": {},
     "output_type": "display_data"
    }
   ],
   "source": [
    "sum(test$Survived == 1) / nrow(test)"
   ]
  }
 ],
 "metadata": {
  "kernelspec": {
   "display_name": "R",
   "language": "R",
   "name": "ir"
  },
  "language_info": {
   "codemirror_mode": "r",
   "file_extension": ".r",
   "mimetype": "text/x-r-source",
   "name": "R",
   "pygments_lexer": "r",
   "version": "3.4.3"
  }
 },
 "nbformat": 4,
 "nbformat_minor": 2
}
